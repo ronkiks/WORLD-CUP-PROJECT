{
  "nbformat": 4,
  "nbformat_minor": 0,
  "metadata": {
    "colab": {
      "provenance": [],
      "authorship_tag": "ABX9TyNdwiGDm4eQS/wCFsdRoOGV",
      "include_colab_link": true
    },
    "kernelspec": {
      "name": "python3",
      "display_name": "Python 3"
    },
    "language_info": {
      "name": "python"
    }
  },
  "cells": [
    {
      "cell_type": "markdown",
      "metadata": {
        "id": "view-in-github",
        "colab_type": "text"
      },
      "source": [
        "<a href=\"https://colab.research.google.com/github/ronkiks/WORLD-CUP-PROJECT/blob/main/WorldCups_Analysis.ipynb\" target=\"_parent\"><img src=\"https://colab.research.google.com/assets/colab-badge.svg\" alt=\"Open In Colab\"/></a>"
      ]
    },
    {
      "cell_type": "code",
      "source": [
        "import numpy as np\n",
        "import pandas as  pd\n",
        "import matplotlib.pyplot as plt\n",
        "import seaborn as sns"
      ],
      "metadata": {
        "id": "HeNrcw1y54wC"
      },
      "execution_count": 7,
      "outputs": []
    },
    {
      "cell_type": "markdown",
      "source": [
        "## Documentation:\n",
        "This is used in data analysis and visualization tasks, particularly within the context of Google Colab or Jupyter Notebooks."
      ],
      "metadata": {
        "id": "ld_sCN6pVxB1"
      }
    },
    {
      "cell_type": "code",
      "source": [
        "df = pd.read_csv('/content/WorldCups.csv')"
      ],
      "metadata": {
        "id": "DA7Tbb561oKP"
      },
      "execution_count": 2,
      "outputs": []
    },
    {
      "cell_type": "markdown",
      "source": [
        "## Documentaion:\n",
        "This line of code is responsible for loading data from a CSV file named \"WorldCups.csv\" into a pandas DataFrame, which is a tabular data structure commonly used for data analysis and manipulation."
      ],
      "metadata": {
        "id": "LjwUZdSdWEtB"
      }
    },
    {
      "cell_type": "code",
      "source": [
        "df"
      ],
      "metadata": {
        "colab": {
          "base_uri": "https://localhost:8080/",
          "height": 817
        },
        "id": "tI80MhQ116mB",
        "outputId": "5e953e91-f1b5-4f8a-d139-5ee6056f0211"
      },
      "execution_count": 3,
      "outputs": [
        {
          "output_type": "execute_result",
          "data": {
            "text/plain": [
              "    Year       Country      Winner      Runners-Up        Third  \\\n",
              "0   1930       Uruguay     Uruguay       Argentina          USA   \n",
              "1   1934         Italy       Italy  Czechoslovakia      Germany   \n",
              "2   1938        France       Italy         Hungary       Brazil   \n",
              "3   1950        Brazil     Uruguay          Brazil       Sweden   \n",
              "4   1954   Switzerland  Germany FR         Hungary      Austria   \n",
              "5   1958        Sweden      Brazil          Sweden       France   \n",
              "6   1962         Chile      Brazil  Czechoslovakia        Chile   \n",
              "7   1966       England     England      Germany FR     Portugal   \n",
              "8   1970        Mexico      Brazil           Italy   Germany FR   \n",
              "9   1974       Germany  Germany FR     Netherlands       Poland   \n",
              "10  1978     Argentina   Argentina     Netherlands       Brazil   \n",
              "11  1982         Spain       Italy      Germany FR       Poland   \n",
              "12  1986        Mexico   Argentina      Germany FR       France   \n",
              "13  1990         Italy  Germany FR       Argentina        Italy   \n",
              "14  1994           USA      Brazil           Italy       Sweden   \n",
              "15  1998        France      France          Brazil      Croatia   \n",
              "16  2002   Korea/Japan      Brazil         Germany       Turkey   \n",
              "17  2006       Germany       Italy          France      Germany   \n",
              "18  2010  South Africa       Spain     Netherlands      Germany   \n",
              "19  2014        Brazil     Germany       Argentina  Netherlands   \n",
              "\n",
              "            Fourth  GoalsScored  QualifiedTeams  MatchesPlayed Attendance  \n",
              "0       Yugoslavia           70              13             18    590.549  \n",
              "1          Austria           70              16             17    363.000  \n",
              "2           Sweden           84              15             18    375.700  \n",
              "3            Spain           88              13             22  1.045.246  \n",
              "4          Uruguay          140              16             26    768.607  \n",
              "5       Germany FR          126              16             35    819.810  \n",
              "6       Yugoslavia           89              16             32    893.172  \n",
              "7     Soviet Union           89              16             32  1.563.135  \n",
              "8          Uruguay           95              16             32  1.603.975  \n",
              "9           Brazil           97              16             38  1.865.753  \n",
              "10           Italy          102              16             38  1.545.791  \n",
              "11          France          146              24             52  2.109.723  \n",
              "12         Belgium          132              24             52  2.394.031  \n",
              "13         England          115              24             52  2.516.215  \n",
              "14        Bulgaria          141              24             52  3.587.538  \n",
              "15     Netherlands          171              32             64  2.785.100  \n",
              "16  Korea Republic          161              32             64  2.705.197  \n",
              "17        Portugal          147              32             64  3.359.439  \n",
              "18         Uruguay          145              32             64  3.178.856  \n",
              "19          Brazil          171              32             64  3.386.810  "
            ],
            "text/html": [
              "\n",
              "  <div id=\"df-48344ec8-2403-4057-b525-5d04cc3e08ca\" class=\"colab-df-container\">\n",
              "    <div>\n",
              "<style scoped>\n",
              "    .dataframe tbody tr th:only-of-type {\n",
              "        vertical-align: middle;\n",
              "    }\n",
              "\n",
              "    .dataframe tbody tr th {\n",
              "        vertical-align: top;\n",
              "    }\n",
              "\n",
              "    .dataframe thead th {\n",
              "        text-align: right;\n",
              "    }\n",
              "</style>\n",
              "<table border=\"1\" class=\"dataframe\">\n",
              "  <thead>\n",
              "    <tr style=\"text-align: right;\">\n",
              "      <th></th>\n",
              "      <th>Year</th>\n",
              "      <th>Country</th>\n",
              "      <th>Winner</th>\n",
              "      <th>Runners-Up</th>\n",
              "      <th>Third</th>\n",
              "      <th>Fourth</th>\n",
              "      <th>GoalsScored</th>\n",
              "      <th>QualifiedTeams</th>\n",
              "      <th>MatchesPlayed</th>\n",
              "      <th>Attendance</th>\n",
              "    </tr>\n",
              "  </thead>\n",
              "  <tbody>\n",
              "    <tr>\n",
              "      <th>0</th>\n",
              "      <td>1930</td>\n",
              "      <td>Uruguay</td>\n",
              "      <td>Uruguay</td>\n",
              "      <td>Argentina</td>\n",
              "      <td>USA</td>\n",
              "      <td>Yugoslavia</td>\n",
              "      <td>70</td>\n",
              "      <td>13</td>\n",
              "      <td>18</td>\n",
              "      <td>590.549</td>\n",
              "    </tr>\n",
              "    <tr>\n",
              "      <th>1</th>\n",
              "      <td>1934</td>\n",
              "      <td>Italy</td>\n",
              "      <td>Italy</td>\n",
              "      <td>Czechoslovakia</td>\n",
              "      <td>Germany</td>\n",
              "      <td>Austria</td>\n",
              "      <td>70</td>\n",
              "      <td>16</td>\n",
              "      <td>17</td>\n",
              "      <td>363.000</td>\n",
              "    </tr>\n",
              "    <tr>\n",
              "      <th>2</th>\n",
              "      <td>1938</td>\n",
              "      <td>France</td>\n",
              "      <td>Italy</td>\n",
              "      <td>Hungary</td>\n",
              "      <td>Brazil</td>\n",
              "      <td>Sweden</td>\n",
              "      <td>84</td>\n",
              "      <td>15</td>\n",
              "      <td>18</td>\n",
              "      <td>375.700</td>\n",
              "    </tr>\n",
              "    <tr>\n",
              "      <th>3</th>\n",
              "      <td>1950</td>\n",
              "      <td>Brazil</td>\n",
              "      <td>Uruguay</td>\n",
              "      <td>Brazil</td>\n",
              "      <td>Sweden</td>\n",
              "      <td>Spain</td>\n",
              "      <td>88</td>\n",
              "      <td>13</td>\n",
              "      <td>22</td>\n",
              "      <td>1.045.246</td>\n",
              "    </tr>\n",
              "    <tr>\n",
              "      <th>4</th>\n",
              "      <td>1954</td>\n",
              "      <td>Switzerland</td>\n",
              "      <td>Germany FR</td>\n",
              "      <td>Hungary</td>\n",
              "      <td>Austria</td>\n",
              "      <td>Uruguay</td>\n",
              "      <td>140</td>\n",
              "      <td>16</td>\n",
              "      <td>26</td>\n",
              "      <td>768.607</td>\n",
              "    </tr>\n",
              "    <tr>\n",
              "      <th>5</th>\n",
              "      <td>1958</td>\n",
              "      <td>Sweden</td>\n",
              "      <td>Brazil</td>\n",
              "      <td>Sweden</td>\n",
              "      <td>France</td>\n",
              "      <td>Germany FR</td>\n",
              "      <td>126</td>\n",
              "      <td>16</td>\n",
              "      <td>35</td>\n",
              "      <td>819.810</td>\n",
              "    </tr>\n",
              "    <tr>\n",
              "      <th>6</th>\n",
              "      <td>1962</td>\n",
              "      <td>Chile</td>\n",
              "      <td>Brazil</td>\n",
              "      <td>Czechoslovakia</td>\n",
              "      <td>Chile</td>\n",
              "      <td>Yugoslavia</td>\n",
              "      <td>89</td>\n",
              "      <td>16</td>\n",
              "      <td>32</td>\n",
              "      <td>893.172</td>\n",
              "    </tr>\n",
              "    <tr>\n",
              "      <th>7</th>\n",
              "      <td>1966</td>\n",
              "      <td>England</td>\n",
              "      <td>England</td>\n",
              "      <td>Germany FR</td>\n",
              "      <td>Portugal</td>\n",
              "      <td>Soviet Union</td>\n",
              "      <td>89</td>\n",
              "      <td>16</td>\n",
              "      <td>32</td>\n",
              "      <td>1.563.135</td>\n",
              "    </tr>\n",
              "    <tr>\n",
              "      <th>8</th>\n",
              "      <td>1970</td>\n",
              "      <td>Mexico</td>\n",
              "      <td>Brazil</td>\n",
              "      <td>Italy</td>\n",
              "      <td>Germany FR</td>\n",
              "      <td>Uruguay</td>\n",
              "      <td>95</td>\n",
              "      <td>16</td>\n",
              "      <td>32</td>\n",
              "      <td>1.603.975</td>\n",
              "    </tr>\n",
              "    <tr>\n",
              "      <th>9</th>\n",
              "      <td>1974</td>\n",
              "      <td>Germany</td>\n",
              "      <td>Germany FR</td>\n",
              "      <td>Netherlands</td>\n",
              "      <td>Poland</td>\n",
              "      <td>Brazil</td>\n",
              "      <td>97</td>\n",
              "      <td>16</td>\n",
              "      <td>38</td>\n",
              "      <td>1.865.753</td>\n",
              "    </tr>\n",
              "    <tr>\n",
              "      <th>10</th>\n",
              "      <td>1978</td>\n",
              "      <td>Argentina</td>\n",
              "      <td>Argentina</td>\n",
              "      <td>Netherlands</td>\n",
              "      <td>Brazil</td>\n",
              "      <td>Italy</td>\n",
              "      <td>102</td>\n",
              "      <td>16</td>\n",
              "      <td>38</td>\n",
              "      <td>1.545.791</td>\n",
              "    </tr>\n",
              "    <tr>\n",
              "      <th>11</th>\n",
              "      <td>1982</td>\n",
              "      <td>Spain</td>\n",
              "      <td>Italy</td>\n",
              "      <td>Germany FR</td>\n",
              "      <td>Poland</td>\n",
              "      <td>France</td>\n",
              "      <td>146</td>\n",
              "      <td>24</td>\n",
              "      <td>52</td>\n",
              "      <td>2.109.723</td>\n",
              "    </tr>\n",
              "    <tr>\n",
              "      <th>12</th>\n",
              "      <td>1986</td>\n",
              "      <td>Mexico</td>\n",
              "      <td>Argentina</td>\n",
              "      <td>Germany FR</td>\n",
              "      <td>France</td>\n",
              "      <td>Belgium</td>\n",
              "      <td>132</td>\n",
              "      <td>24</td>\n",
              "      <td>52</td>\n",
              "      <td>2.394.031</td>\n",
              "    </tr>\n",
              "    <tr>\n",
              "      <th>13</th>\n",
              "      <td>1990</td>\n",
              "      <td>Italy</td>\n",
              "      <td>Germany FR</td>\n",
              "      <td>Argentina</td>\n",
              "      <td>Italy</td>\n",
              "      <td>England</td>\n",
              "      <td>115</td>\n",
              "      <td>24</td>\n",
              "      <td>52</td>\n",
              "      <td>2.516.215</td>\n",
              "    </tr>\n",
              "    <tr>\n",
              "      <th>14</th>\n",
              "      <td>1994</td>\n",
              "      <td>USA</td>\n",
              "      <td>Brazil</td>\n",
              "      <td>Italy</td>\n",
              "      <td>Sweden</td>\n",
              "      <td>Bulgaria</td>\n",
              "      <td>141</td>\n",
              "      <td>24</td>\n",
              "      <td>52</td>\n",
              "      <td>3.587.538</td>\n",
              "    </tr>\n",
              "    <tr>\n",
              "      <th>15</th>\n",
              "      <td>1998</td>\n",
              "      <td>France</td>\n",
              "      <td>France</td>\n",
              "      <td>Brazil</td>\n",
              "      <td>Croatia</td>\n",
              "      <td>Netherlands</td>\n",
              "      <td>171</td>\n",
              "      <td>32</td>\n",
              "      <td>64</td>\n",
              "      <td>2.785.100</td>\n",
              "    </tr>\n",
              "    <tr>\n",
              "      <th>16</th>\n",
              "      <td>2002</td>\n",
              "      <td>Korea/Japan</td>\n",
              "      <td>Brazil</td>\n",
              "      <td>Germany</td>\n",
              "      <td>Turkey</td>\n",
              "      <td>Korea Republic</td>\n",
              "      <td>161</td>\n",
              "      <td>32</td>\n",
              "      <td>64</td>\n",
              "      <td>2.705.197</td>\n",
              "    </tr>\n",
              "    <tr>\n",
              "      <th>17</th>\n",
              "      <td>2006</td>\n",
              "      <td>Germany</td>\n",
              "      <td>Italy</td>\n",
              "      <td>France</td>\n",
              "      <td>Germany</td>\n",
              "      <td>Portugal</td>\n",
              "      <td>147</td>\n",
              "      <td>32</td>\n",
              "      <td>64</td>\n",
              "      <td>3.359.439</td>\n",
              "    </tr>\n",
              "    <tr>\n",
              "      <th>18</th>\n",
              "      <td>2010</td>\n",
              "      <td>South Africa</td>\n",
              "      <td>Spain</td>\n",
              "      <td>Netherlands</td>\n",
              "      <td>Germany</td>\n",
              "      <td>Uruguay</td>\n",
              "      <td>145</td>\n",
              "      <td>32</td>\n",
              "      <td>64</td>\n",
              "      <td>3.178.856</td>\n",
              "    </tr>\n",
              "    <tr>\n",
              "      <th>19</th>\n",
              "      <td>2014</td>\n",
              "      <td>Brazil</td>\n",
              "      <td>Germany</td>\n",
              "      <td>Argentina</td>\n",
              "      <td>Netherlands</td>\n",
              "      <td>Brazil</td>\n",
              "      <td>171</td>\n",
              "      <td>32</td>\n",
              "      <td>64</td>\n",
              "      <td>3.386.810</td>\n",
              "    </tr>\n",
              "  </tbody>\n",
              "</table>\n",
              "</div>\n",
              "    <div class=\"colab-df-buttons\">\n",
              "\n",
              "  <div class=\"colab-df-container\">\n",
              "    <button class=\"colab-df-convert\" onclick=\"convertToInteractive('df-48344ec8-2403-4057-b525-5d04cc3e08ca')\"\n",
              "            title=\"Convert this dataframe to an interactive table.\"\n",
              "            style=\"display:none;\">\n",
              "\n",
              "  <svg xmlns=\"http://www.w3.org/2000/svg\" height=\"24px\" viewBox=\"0 -960 960 960\">\n",
              "    <path d=\"M120-120v-720h720v720H120Zm60-500h600v-160H180v160Zm220 220h160v-160H400v160Zm0 220h160v-160H400v160ZM180-400h160v-160H180v160Zm440 0h160v-160H620v160ZM180-180h160v-160H180v160Zm440 0h160v-160H620v160Z\"/>\n",
              "  </svg>\n",
              "    </button>\n",
              "\n",
              "  <style>\n",
              "    .colab-df-container {\n",
              "      display:flex;\n",
              "      gap: 12px;\n",
              "    }\n",
              "\n",
              "    .colab-df-convert {\n",
              "      background-color: #E8F0FE;\n",
              "      border: none;\n",
              "      border-radius: 50%;\n",
              "      cursor: pointer;\n",
              "      display: none;\n",
              "      fill: #1967D2;\n",
              "      height: 32px;\n",
              "      padding: 0 0 0 0;\n",
              "      width: 32px;\n",
              "    }\n",
              "\n",
              "    .colab-df-convert:hover {\n",
              "      background-color: #E2EBFA;\n",
              "      box-shadow: 0px 1px 2px rgba(60, 64, 67, 0.3), 0px 1px 3px 1px rgba(60, 64, 67, 0.15);\n",
              "      fill: #174EA6;\n",
              "    }\n",
              "\n",
              "    .colab-df-buttons div {\n",
              "      margin-bottom: 4px;\n",
              "    }\n",
              "\n",
              "    [theme=dark] .colab-df-convert {\n",
              "      background-color: #3B4455;\n",
              "      fill: #D2E3FC;\n",
              "    }\n",
              "\n",
              "    [theme=dark] .colab-df-convert:hover {\n",
              "      background-color: #434B5C;\n",
              "      box-shadow: 0px 1px 3px 1px rgba(0, 0, 0, 0.15);\n",
              "      filter: drop-shadow(0px 1px 2px rgba(0, 0, 0, 0.3));\n",
              "      fill: #FFFFFF;\n",
              "    }\n",
              "  </style>\n",
              "\n",
              "    <script>\n",
              "      const buttonEl =\n",
              "        document.querySelector('#df-48344ec8-2403-4057-b525-5d04cc3e08ca button.colab-df-convert');\n",
              "      buttonEl.style.display =\n",
              "        google.colab.kernel.accessAllowed ? 'block' : 'none';\n",
              "\n",
              "      async function convertToInteractive(key) {\n",
              "        const element = document.querySelector('#df-48344ec8-2403-4057-b525-5d04cc3e08ca');\n",
              "        const dataTable =\n",
              "          await google.colab.kernel.invokeFunction('convertToInteractive',\n",
              "                                                    [key], {});\n",
              "        if (!dataTable) return;\n",
              "\n",
              "        const docLinkHtml = 'Like what you see? Visit the ' +\n",
              "          '<a target=\"_blank\" href=https://colab.research.google.com/notebooks/data_table.ipynb>data table notebook</a>'\n",
              "          + ' to learn more about interactive tables.';\n",
              "        element.innerHTML = '';\n",
              "        dataTable['output_type'] = 'display_data';\n",
              "        await google.colab.output.renderOutput(dataTable, element);\n",
              "        const docLink = document.createElement('div');\n",
              "        docLink.innerHTML = docLinkHtml;\n",
              "        element.appendChild(docLink);\n",
              "      }\n",
              "    </script>\n",
              "  </div>\n",
              "\n",
              "\n",
              "<div id=\"df-0e7d0714-476b-4aae-a0a3-47fd0b7d384a\">\n",
              "  <button class=\"colab-df-quickchart\" onclick=\"quickchart('df-0e7d0714-476b-4aae-a0a3-47fd0b7d384a')\"\n",
              "            title=\"Suggest charts\"\n",
              "            style=\"display:none;\">\n",
              "\n",
              "<svg xmlns=\"http://www.w3.org/2000/svg\" height=\"24px\"viewBox=\"0 0 24 24\"\n",
              "     width=\"24px\">\n",
              "    <g>\n",
              "        <path d=\"M19 3H5c-1.1 0-2 .9-2 2v14c0 1.1.9 2 2 2h14c1.1 0 2-.9 2-2V5c0-1.1-.9-2-2-2zM9 17H7v-7h2v7zm4 0h-2V7h2v10zm4 0h-2v-4h2v4z\"/>\n",
              "    </g>\n",
              "</svg>\n",
              "  </button>\n",
              "\n",
              "<style>\n",
              "  .colab-df-quickchart {\n",
              "      --bg-color: #E8F0FE;\n",
              "      --fill-color: #1967D2;\n",
              "      --hover-bg-color: #E2EBFA;\n",
              "      --hover-fill-color: #174EA6;\n",
              "      --disabled-fill-color: #AAA;\n",
              "      --disabled-bg-color: #DDD;\n",
              "  }\n",
              "\n",
              "  [theme=dark] .colab-df-quickchart {\n",
              "      --bg-color: #3B4455;\n",
              "      --fill-color: #D2E3FC;\n",
              "      --hover-bg-color: #434B5C;\n",
              "      --hover-fill-color: #FFFFFF;\n",
              "      --disabled-bg-color: #3B4455;\n",
              "      --disabled-fill-color: #666;\n",
              "  }\n",
              "\n",
              "  .colab-df-quickchart {\n",
              "    background-color: var(--bg-color);\n",
              "    border: none;\n",
              "    border-radius: 50%;\n",
              "    cursor: pointer;\n",
              "    display: none;\n",
              "    fill: var(--fill-color);\n",
              "    height: 32px;\n",
              "    padding: 0;\n",
              "    width: 32px;\n",
              "  }\n",
              "\n",
              "  .colab-df-quickchart:hover {\n",
              "    background-color: var(--hover-bg-color);\n",
              "    box-shadow: 0 1px 2px rgba(60, 64, 67, 0.3), 0 1px 3px 1px rgba(60, 64, 67, 0.15);\n",
              "    fill: var(--button-hover-fill-color);\n",
              "  }\n",
              "\n",
              "  .colab-df-quickchart-complete:disabled,\n",
              "  .colab-df-quickchart-complete:disabled:hover {\n",
              "    background-color: var(--disabled-bg-color);\n",
              "    fill: var(--disabled-fill-color);\n",
              "    box-shadow: none;\n",
              "  }\n",
              "\n",
              "  .colab-df-spinner {\n",
              "    border: 2px solid var(--fill-color);\n",
              "    border-color: transparent;\n",
              "    border-bottom-color: var(--fill-color);\n",
              "    animation:\n",
              "      spin 1s steps(1) infinite;\n",
              "  }\n",
              "\n",
              "  @keyframes spin {\n",
              "    0% {\n",
              "      border-color: transparent;\n",
              "      border-bottom-color: var(--fill-color);\n",
              "      border-left-color: var(--fill-color);\n",
              "    }\n",
              "    20% {\n",
              "      border-color: transparent;\n",
              "      border-left-color: var(--fill-color);\n",
              "      border-top-color: var(--fill-color);\n",
              "    }\n",
              "    30% {\n",
              "      border-color: transparent;\n",
              "      border-left-color: var(--fill-color);\n",
              "      border-top-color: var(--fill-color);\n",
              "      border-right-color: var(--fill-color);\n",
              "    }\n",
              "    40% {\n",
              "      border-color: transparent;\n",
              "      border-right-color: var(--fill-color);\n",
              "      border-top-color: var(--fill-color);\n",
              "    }\n",
              "    60% {\n",
              "      border-color: transparent;\n",
              "      border-right-color: var(--fill-color);\n",
              "    }\n",
              "    80% {\n",
              "      border-color: transparent;\n",
              "      border-right-color: var(--fill-color);\n",
              "      border-bottom-color: var(--fill-color);\n",
              "    }\n",
              "    90% {\n",
              "      border-color: transparent;\n",
              "      border-bottom-color: var(--fill-color);\n",
              "    }\n",
              "  }\n",
              "</style>\n",
              "\n",
              "  <script>\n",
              "    async function quickchart(key) {\n",
              "      const quickchartButtonEl =\n",
              "        document.querySelector('#' + key + ' button');\n",
              "      quickchartButtonEl.disabled = true;  // To prevent multiple clicks.\n",
              "      quickchartButtonEl.classList.add('colab-df-spinner');\n",
              "      try {\n",
              "        const charts = await google.colab.kernel.invokeFunction(\n",
              "            'suggestCharts', [key], {});\n",
              "      } catch (error) {\n",
              "        console.error('Error during call to suggestCharts:', error);\n",
              "      }\n",
              "      quickchartButtonEl.classList.remove('colab-df-spinner');\n",
              "      quickchartButtonEl.classList.add('colab-df-quickchart-complete');\n",
              "    }\n",
              "    (() => {\n",
              "      let quickchartButtonEl =\n",
              "        document.querySelector('#df-0e7d0714-476b-4aae-a0a3-47fd0b7d384a button');\n",
              "      quickchartButtonEl.style.display =\n",
              "        google.colab.kernel.accessAllowed ? 'block' : 'none';\n",
              "    })();\n",
              "  </script>\n",
              "</div>\n",
              "\n",
              "  <div id=\"id_c79eae31-2c0f-4f8a-9a19-3ec91682c700\">\n",
              "    <style>\n",
              "      .colab-df-generate {\n",
              "        background-color: #E8F0FE;\n",
              "        border: none;\n",
              "        border-radius: 50%;\n",
              "        cursor: pointer;\n",
              "        display: none;\n",
              "        fill: #1967D2;\n",
              "        height: 32px;\n",
              "        padding: 0 0 0 0;\n",
              "        width: 32px;\n",
              "      }\n",
              "\n",
              "      .colab-df-generate:hover {\n",
              "        background-color: #E2EBFA;\n",
              "        box-shadow: 0px 1px 2px rgba(60, 64, 67, 0.3), 0px 1px 3px 1px rgba(60, 64, 67, 0.15);\n",
              "        fill: #174EA6;\n",
              "      }\n",
              "\n",
              "      [theme=dark] .colab-df-generate {\n",
              "        background-color: #3B4455;\n",
              "        fill: #D2E3FC;\n",
              "      }\n",
              "\n",
              "      [theme=dark] .colab-df-generate:hover {\n",
              "        background-color: #434B5C;\n",
              "        box-shadow: 0px 1px 3px 1px rgba(0, 0, 0, 0.15);\n",
              "        filter: drop-shadow(0px 1px 2px rgba(0, 0, 0, 0.3));\n",
              "        fill: #FFFFFF;\n",
              "      }\n",
              "    </style>\n",
              "    <button class=\"colab-df-generate\" onclick=\"generateWithVariable('df')\"\n",
              "            title=\"Generate code using this dataframe.\"\n",
              "            style=\"display:none;\">\n",
              "\n",
              "  <svg xmlns=\"http://www.w3.org/2000/svg\" height=\"24px\"viewBox=\"0 0 24 24\"\n",
              "       width=\"24px\">\n",
              "    <path d=\"M7,19H8.4L18.45,9,17,7.55,7,17.6ZM5,21V16.75L18.45,3.32a2,2,0,0,1,2.83,0l1.4,1.43a1.91,1.91,0,0,1,.58,1.4,1.91,1.91,0,0,1-.58,1.4L9.25,21ZM18.45,9,17,7.55Zm-12,3A5.31,5.31,0,0,0,4.9,8.1,5.31,5.31,0,0,0,1,6.5,5.31,5.31,0,0,0,4.9,4.9,5.31,5.31,0,0,0,6.5,1,5.31,5.31,0,0,0,8.1,4.9,5.31,5.31,0,0,0,12,6.5,5.46,5.46,0,0,0,6.5,12Z\"/>\n",
              "  </svg>\n",
              "    </button>\n",
              "    <script>\n",
              "      (() => {\n",
              "      const buttonEl =\n",
              "        document.querySelector('#id_c79eae31-2c0f-4f8a-9a19-3ec91682c700 button.colab-df-generate');\n",
              "      buttonEl.style.display =\n",
              "        google.colab.kernel.accessAllowed ? 'block' : 'none';\n",
              "\n",
              "      buttonEl.onclick = () => {\n",
              "        google.colab.notebook.generateWithVariable('df');\n",
              "      }\n",
              "      })();\n",
              "    </script>\n",
              "  </div>\n",
              "\n",
              "    </div>\n",
              "  </div>\n"
            ],
            "application/vnd.google.colaboratory.intrinsic+json": {
              "type": "dataframe",
              "variable_name": "df",
              "summary": "{\n  \"name\": \"df\",\n  \"rows\": 20,\n  \"fields\": [\n    {\n      \"column\": \"Year\",\n      \"properties\": {\n        \"dtype\": \"number\",\n        \"std\": 25,\n        \"min\": 1930,\n        \"max\": 2014,\n        \"num_unique_values\": 20,\n        \"samples\": [\n          1930,\n          2006,\n          1998\n        ],\n        \"semantic_type\": \"\",\n        \"description\": \"\"\n      }\n    },\n    {\n      \"column\": \"Country\",\n      \"properties\": {\n        \"dtype\": \"string\",\n        \"num_unique_values\": 15,\n        \"samples\": [\n          \"Germany\",\n          \"Spain\",\n          \"Uruguay\"\n        ],\n        \"semantic_type\": \"\",\n        \"description\": \"\"\n      }\n    },\n    {\n      \"column\": \"Winner\",\n      \"properties\": {\n        \"dtype\": \"category\",\n        \"num_unique_values\": 9,\n        \"samples\": [\n          \"Spain\",\n          \"Italy\",\n          \"Argentina\"\n        ],\n        \"semantic_type\": \"\",\n        \"description\": \"\"\n      }\n    },\n    {\n      \"column\": \"Runners-Up\",\n      \"properties\": {\n        \"dtype\": \"string\",\n        \"num_unique_values\": 10,\n        \"samples\": [\n          \"Germany\",\n          \"Czechoslovakia\",\n          \"Germany FR\"\n        ],\n        \"semantic_type\": \"\",\n        \"description\": \"\"\n      }\n    },\n    {\n      \"column\": \"Third\",\n      \"properties\": {\n        \"dtype\": \"string\",\n        \"num_unique_values\": 14,\n        \"samples\": [\n          \"Poland\",\n          \"Croatia\",\n          \"USA\"\n        ],\n        \"semantic_type\": \"\",\n        \"description\": \"\"\n      }\n    },\n    {\n      \"column\": \"Fourth\",\n      \"properties\": {\n        \"dtype\": \"string\",\n        \"num_unique_values\": 16,\n        \"samples\": [\n          \"Yugoslavia\",\n          \"Austria\",\n          \"Germany FR\"\n        ],\n        \"semantic_type\": \"\",\n        \"description\": \"\"\n      }\n    },\n    {\n      \"column\": \"GoalsScored\",\n      \"properties\": {\n        \"dtype\": \"number\",\n        \"std\": 32,\n        \"min\": 70,\n        \"max\": 171,\n        \"num_unique_values\": 17,\n        \"samples\": [\n          70,\n          84,\n          89\n        ],\n        \"semantic_type\": \"\",\n        \"description\": \"\"\n      }\n    },\n    {\n      \"column\": \"QualifiedTeams\",\n      \"properties\": {\n        \"dtype\": \"number\",\n        \"std\": 7,\n        \"min\": 13,\n        \"max\": 32,\n        \"num_unique_values\": 5,\n        \"samples\": [\n          16,\n          32,\n          15\n        ],\n        \"semantic_type\": \"\",\n        \"description\": \"\"\n      }\n    },\n    {\n      \"column\": \"MatchesPlayed\",\n      \"properties\": {\n        \"dtype\": \"number\",\n        \"std\": 17,\n        \"min\": 17,\n        \"max\": 64,\n        \"num_unique_values\": 9,\n        \"samples\": [\n          52,\n          17,\n          32\n        ],\n        \"semantic_type\": \"\",\n        \"description\": \"\"\n      }\n    },\n    {\n      \"column\": \"Attendance\",\n      \"properties\": {\n        \"dtype\": \"string\",\n        \"num_unique_values\": 20,\n        \"samples\": [\n          \"590.549\",\n          \"3.359.439\",\n          \"2.785.100\"\n        ],\n        \"semantic_type\": \"\",\n        \"description\": \"\"\n      }\n    }\n  ]\n}"
            }
          },
          "metadata": {},
          "execution_count": 3
        }
      ]
    },
    {
      "cell_type": "markdown",
      "source": [
        "## Documentation:\n",
        "df is a pandas DataFrame that stores the World Cup data loaded from the CSV file \"WorldCups.csv\"."
      ],
      "metadata": {
        "id": "UlShY0h4YvDl"
      }
    },
    {
      "cell_type": "markdown",
      "source": [
        "# 2.\tWhat are the column names in the dataset?"
      ],
      "metadata": {
        "id": "BAhdTnYA2FtR"
      }
    },
    {
      "cell_type": "code",
      "source": [
        "df.columns"
      ],
      "metadata": {
        "colab": {
          "base_uri": "https://localhost:8080/"
        },
        "id": "oXaQYqR42U_m",
        "outputId": "da07064a-aaaa-4819-b9b5-af44db47ce47"
      },
      "execution_count": 4,
      "outputs": [
        {
          "output_type": "execute_result",
          "data": {
            "text/plain": [
              "Index(['Year', 'Country', 'Winner', 'Runners-Up', 'Third', 'Fourth',\n",
              "       'GoalsScored', 'QualifiedTeams', 'MatchesPlayed', 'Attendance'],\n",
              "      dtype='object')"
            ]
          },
          "metadata": {},
          "execution_count": 4
        }
      ]
    },
    {
      "cell_type": "markdown",
      "source": [
        "## Documentation:\n",
        "The above code returns the column labels of the DataFrame."
      ],
      "metadata": {
        "id": "4wjVZnWR2sc3"
      }
    },
    {
      "cell_type": "markdown",
      "source": [
        "# 3.\tHow many World Cups are recorded in the dataset?"
      ],
      "metadata": {
        "id": "v9qL48MB4j0T"
      }
    },
    {
      "source": [
        "num_world_cups = df['Year'].nunique()\n",
        "print(f\"There are {num_world_cups} World Cups recorded in the dataset.\")"
      ],
      "cell_type": "code",
      "metadata": {
        "colab": {
          "base_uri": "https://localhost:8080/"
        },
        "id": "VFaUt6RA6noj",
        "outputId": "57ce7034-1dee-411f-d58a-cf7ad554ef4d"
      },
      "execution_count": 8,
      "outputs": [
        {
          "output_type": "stream",
          "name": "stdout",
          "text": [
            "There are 20 World Cups recorded in the dataset.\n"
          ]
        }
      ]
    },
    {
      "cell_type": "markdown",
      "source": [
        "## Documentation:\n",
        "This output indicates that the dataset contains records for 20 distinct World Cup tournaments."
      ],
      "metadata": {
        "id": "lIHLGgyI7Sjq"
      }
    },
    {
      "cell_type": "markdown",
      "source": [
        "# 4.\tAre there any missing values in the dataset? If so, which columns have them?"
      ],
      "metadata": {
        "id": "r_UwDvus7a-Y"
      }
    },
    {
      "source": [
        "missing_values = df.isnull().sum()\n",
        "missing_columns = missing_values[missing_values > 0]\n",
        "\n",
        "if missing_columns.empty:\n",
        "    print(\"There are no missing values in the dataset.\")\n",
        "else:\n",
        "    print(\"Missing values found in the following columns:\")\n",
        "    print(missing_columns)"
      ],
      "cell_type": "code",
      "metadata": {
        "colab": {
          "base_uri": "https://localhost:8080/"
        },
        "id": "cN8NvJOc79jv",
        "outputId": "07413d8b-fe33-48ec-be91-01fd3cfff61d"
      },
      "execution_count": 9,
      "outputs": [
        {
          "output_type": "stream",
          "name": "stdout",
          "text": [
            "There are no missing values in the dataset.\n"
          ]
        }
      ]
    },
    {
      "cell_type": "markdown",
      "source": [
        "## Documentation:\n",
        "This code handles the case when there are no missing values in the dataset."
      ],
      "metadata": {
        "id": "nION5PXh8QPw"
      }
    },
    {
      "cell_type": "markdown",
      "source": [
        "# 5.\tConvert the \"Year\" column to an integer type."
      ],
      "metadata": {
        "id": "8uvd_auX96zU"
      }
    },
    {
      "source": [
        "df['Year'] = df['Year'].astype(int)"
      ],
      "cell_type": "code",
      "metadata": {
        "id": "DdY5E71b-eCB"
      },
      "execution_count": 10,
      "outputs": []
    },
    {
      "cell_type": "markdown",
      "source": [
        "## Documentation:\n",
        "This code converts the data type of the \"Year\" column in the DataFrame df to integer."
      ],
      "metadata": {
        "id": "z2V-rU7T-gmZ"
      }
    },
    {
      "cell_type": "markdown",
      "source": [
        "# 6.\tConvert the \"Attendance\" column to a numeric format (it seems to contain commas)."
      ],
      "metadata": {
        "id": "bsc3lPQN-ygm"
      }
    },
    {
      "cell_type": "code",
      "source": [
        "df['Attendance'] = df['Attendance'].apply(clean_attendance)"
      ],
      "metadata": {
        "id": "ZAvWSuKaDjC3"
      },
      "execution_count": 19,
      "outputs": []
    },
    {
      "cell_type": "markdown",
      "source": [
        "## Documentation:\n",
        "This code provides a solution to the AttributeError when using string methods on non-string columns by using a custom function and the apply() method."
      ],
      "metadata": {
        "id": "Msl46gT8EVLR"
      }
    },
    {
      "cell_type": "markdown",
      "source": [
        "# 7.\tWhat is the average number of goals scored per World Cup?"
      ],
      "metadata": {
        "id": "FbA-vm-kEccl"
      }
    },
    {
      "source": [
        "average_goals = df['GoalsScored'].sum() / df['Year'].nunique()\n",
        "print(f\"The average number of goals scored per World Cup is: {average_goals}\")"
      ],
      "cell_type": "code",
      "metadata": {
        "colab": {
          "base_uri": "https://localhost:8080/"
        },
        "id": "nEyG9UwWEyWR",
        "outputId": "2e416c54-9931-4085-cb31-0b152a07bac9"
      },
      "execution_count": 20,
      "outputs": [
        {
          "output_type": "stream",
          "name": "stdout",
          "text": [
            "The average number of goals scored per World Cup is: 118.95\n"
          ]
        }
      ]
    },
    {
      "cell_type": "markdown",
      "source": [
        "## Documentation:\n",
        "This output indicates that the average number of goals scored across all recorded World Cups in the dataset is approximately 118.95 goals."
      ],
      "metadata": {
        "id": "5LciB-GgFTio"
      }
    },
    {
      "cell_type": "markdown",
      "source": [
        "# 8.\tWhich World Cup had the highest attendance?"
      ],
      "metadata": {
        "id": "v-NT0oxiFYxp"
      }
    },
    {
      "source": [
        "# Extract the year and attendance using `.values` and indexing\n",
        "try:\n",
        "    world_cup_year = highest_attendance_row['Year'].values[0]\n",
        "    attendance = highest_attendance_row['Attendance'].values[0]\n",
        "except IndexError:\n",
        "    world_cup_year = None  # Or any suitable default value\n",
        "    attendance = None      # Or any suitable default value\n",
        "\n",
        "if world_cup_year is not None:\n",
        "    print(f\"The World Cup with the highest attendance was in {world_cup_year} with an attendance of {attendance}.\")\n",
        "else:\n",
        "    print(\"No World Cup found with attendance data.\")"
      ],
      "cell_type": "code",
      "metadata": {
        "colab": {
          "base_uri": "https://localhost:8080/"
        },
        "id": "fKICMMVEIu36",
        "outputId": "664ea385-594a-4c37-d012-4efee7f3bb60"
      },
      "execution_count": 31,
      "outputs": [
        {
          "output_type": "stream",
          "name": "stdout",
          "text": [
            "No World Cup found with attendance data.\n"
          ]
        }
      ]
    },
    {
      "cell_type": "markdown",
      "source": [
        "## Documentation:\n",
        "This part of the code handles the case where there is no valid attendance data available to determine the World Cup with the highest attendance."
      ],
      "metadata": {
        "id": "1__1nr6cJVKw"
      }
    },
    {
      "cell_type": "markdown",
      "source": [
        "# 9.\tWhat is the average number of matches played per World Cup?"
      ],
      "metadata": {
        "id": "8D1RBzEwKJIA"
      }
    },
    {
      "source": [
        "average_matches = df['MatchesPlayed'].sum() / df['Year'].nunique()\n",
        "print(f\"The average number of matches played per World Cup is: {average_matches}\")"
      ],
      "cell_type": "code",
      "metadata": {
        "colab": {
          "base_uri": "https://localhost:8080/"
        },
        "id": "-mfdZSjsKsQA",
        "outputId": "5d29ef84-c74b-4f28-f393-58d62a446a97"
      },
      "execution_count": 32,
      "outputs": [
        {
          "output_type": "stream",
          "name": "stdout",
          "text": [
            "The average number of matches played per World Cup is: nan\n"
          ]
        },
        {
          "output_type": "stream",
          "name": "stderr",
          "text": [
            "<ipython-input-32-232d4cfe80b3>:1: RuntimeWarning: invalid value encountered in scalar divide\n",
            "  average_matches = df['MatchesPlayed'].sum() / df['Year'].nunique()\n"
          ]
        }
      ]
    },
    {
      "cell_type": "markdown",
      "source": [
        "## Documentation:\n",
        "This code calculates the average number of matches played per World Cup using the 'MatchesPlayed' and 'Year' columns of a DataFrame."
      ],
      "metadata": {
        "id": "5Uiq-Nr2K58R"
      }
    },
    {
      "cell_type": "markdown",
      "source": [
        "# 10.\tFind all World Cups hosted in Europe."
      ],
      "metadata": {
        "id": "llBP68ioLXcL"
      }
    },
    {
      "source": [
        "europe_world_cups = df[df['Country'].isin(['France', 'Germany', 'England', 'Italy', 'Spain', 'Switzerland', 'Sweden'])]\n",
        "print(europe_world_cups)"
      ],
      "cell_type": "code",
      "metadata": {
        "colab": {
          "base_uri": "https://localhost:8080/"
        },
        "id": "toEQLGnTNWFW",
        "outputId": "e5d44ae5-0eed-4ee9-f1bd-1ff885e57d22"
      },
      "execution_count": 33,
      "outputs": [
        {
          "output_type": "stream",
          "name": "stdout",
          "text": [
            "Empty DataFrame\n",
            "Columns: [Year, Country, Winner, Runners-Up, Third, Fourth, GoalsScored, QualifiedTeams, MatchesPlayed, Attendance]\n",
            "Index: []\n"
          ]
        }
      ]
    },
    {
      "cell_type": "markdown",
      "source": [
        "## Documentation:\n",
        "This code identifies and displays all World Cups hosted in European countries based on the 'Country' column in the DataFrame."
      ],
      "metadata": {
        "id": "MzW-6EdJNctU"
      }
    },
    {
      "cell_type": "markdown",
      "source": [
        "# 11.\tRetrieve all World Cups won by Brazil."
      ],
      "metadata": {
        "id": "yFamCll3NmgJ"
      }
    },
    {
      "source": [
        "brazil_wins = df[df['Winner'] == 'Brazil']\n",
        "print(brazil_wins)"
      ],
      "cell_type": "code",
      "metadata": {
        "colab": {
          "base_uri": "https://localhost:8080/"
        },
        "id": "dbwxCXxON5iy",
        "outputId": "5766b650-0e4e-4502-8546-6cd38f2fb0d5"
      },
      "execution_count": 34,
      "outputs": [
        {
          "output_type": "stream",
          "name": "stdout",
          "text": [
            "Empty DataFrame\n",
            "Columns: [Year, Country, Winner, Runners-Up, Third, Fourth, GoalsScored, QualifiedTeams, MatchesPlayed, Attendance]\n",
            "Index: []\n"
          ]
        }
      ]
    },
    {
      "cell_type": "markdown",
      "source": [
        "## Documentation:\n",
        "This code identifies and displays all World Cups won by Brazil based on the 'Winner' column in the DataFrame."
      ],
      "metadata": {
        "id": "pIIQk5xYN-Hx"
      }
    },
    {
      "cell_type": "markdown",
      "source": [
        "# 12.\tList all World Cups where the host country won the tournament."
      ],
      "metadata": {
        "id": "CTsYzZrLOMX7"
      }
    },
    {
      "source": [
        "host_wins = df[df['Country'] == df['Winner']]\n",
        "print(host_wins)"
      ],
      "cell_type": "code",
      "metadata": {
        "colab": {
          "base_uri": "https://localhost:8080/"
        },
        "id": "kYmz2Sf2OoXy",
        "outputId": "5444c87d-d109-4364-d76b-79317a6f79f4"
      },
      "execution_count": 35,
      "outputs": [
        {
          "output_type": "stream",
          "name": "stdout",
          "text": [
            "Empty DataFrame\n",
            "Columns: [Year, Country, Winner, Runners-Up, Third, Fourth, GoalsScored, QualifiedTeams, MatchesPlayed, Attendance]\n",
            "Index: []\n"
          ]
        }
      ]
    },
    {
      "cell_type": "markdown",
      "source": [
        "## Documentation:\n",
        "This code identifies and displays all World Cups where the host country won the tournament based on the 'Country' and 'Winner' columns in the DataFrame."
      ],
      "metadata": {
        "id": "kE0wvUyBOyV9"
      }
    },
    {
      "cell_type": "markdown",
      "source": [
        "# 13.\tHow many times has each country won the World Cup?"
      ],
      "metadata": {
        "id": "AWrQYSOkO7Cf"
      }
    },
    {
      "source": [
        "win_counts = df['Winner'].value_counts()\n",
        "print(win_counts)"
      ],
      "cell_type": "code",
      "metadata": {
        "colab": {
          "base_uri": "https://localhost:8080/"
        },
        "id": "T9vp6cNLPTlm",
        "outputId": "9ed37233-65ec-4f45-e060-afe9356cdd30"
      },
      "execution_count": 36,
      "outputs": [
        {
          "output_type": "stream",
          "name": "stdout",
          "text": [
            "Series([], Name: count, dtype: int64)\n"
          ]
        }
      ]
    },
    {
      "cell_type": "markdown",
      "source": [
        "## Documentation:\n",
        "This code calculates and displays the number of times each country has won the World Cup, based on the 'Winner' column in the DataFrame."
      ],
      "metadata": {
        "id": "0PVlEpgqPc2r"
      }
    },
    {
      "cell_type": "markdown",
      "source": [
        "# 14.\tWhat is the total number of goals scored in each decade?"
      ],
      "metadata": {
        "id": "tS3LEqhDPnmi"
      }
    },
    {
      "source": [
        "# Create a new column 'Decade'\n",
        "df['Decade'] = (df['Year'] // 10) * 10\n",
        "\n",
        "# Group by 'Decade' and sum 'GoalsScored'\n",
        "goals_per_decade = df.groupby('Decade')['GoalsScored'].sum()\n",
        "\n",
        "# Print the results\n",
        "print(goals_per_decade)"
      ],
      "cell_type": "code",
      "metadata": {
        "colab": {
          "base_uri": "https://localhost:8080/"
        },
        "id": "vDJMfLnRQLHl",
        "outputId": "194f3543-c659-43b9-b12d-537e12d7e256"
      },
      "execution_count": 37,
      "outputs": [
        {
          "output_type": "stream",
          "name": "stdout",
          "text": [
            "Series([], Name: GoalsScored, dtype: int64)\n"
          ]
        }
      ]
    },
    {
      "cell_type": "markdown",
      "source": [
        "Documentation:\n",
        "This scenario occurs when the code intended to calculate and display the total goals scored in each decade results in an empty pandas Series."
      ],
      "metadata": {
        "id": "mg8Rb3YzQUps"
      }
    },
    {
      "cell_type": "markdown",
      "source": [
        "# 15.\tFind the host countries that have hosted multiple World Cups."
      ],
      "metadata": {
        "id": "5xyHAN3HQtFp"
      }
    },
    {
      "source": [
        "host_counts = df['Country'].value_counts()\n",
        "multiple_hosts = host_counts[host_counts > 1]\n",
        "print(multiple_hosts)"
      ],
      "cell_type": "code",
      "metadata": {
        "colab": {
          "base_uri": "https://localhost:8080/"
        },
        "id": "Zc_g-0azQ54i",
        "outputId": "4af7fcc9-9130-4a65-8b94-d1a2b7423208"
      },
      "execution_count": 38,
      "outputs": [
        {
          "output_type": "stream",
          "name": "stdout",
          "text": [
            "Series([], Name: count, dtype: int64)\n"
          ]
        }
      ]
    },
    {
      "cell_type": "markdown",
      "source": [
        "## Documentation:\n",
        "It identify and display host countries that have hosted multiple World Cups produces an empty pandas Series as output."
      ],
      "metadata": {
        "id": "tHm03iHyRCNV"
      }
    },
    {
      "cell_type": "markdown",
      "source": [
        "# 16.\tPlot a line graph showing the trend of goals scored over the years."
      ],
      "metadata": {
        "id": "7Xxpung0RlFw"
      }
    },
    {
      "source": [
        "# Plotting the trend of goals scored over the years\n",
        "plt.figure(figsize=(12, 6))  # Adjust figure size if needed\n",
        "plt.plot(df['Year'], df['GoalsScored'], marker='o', linestyle='-')\n",
        "plt.title('Trend of Goals Scored in World Cups Over the Years')\n",
        "plt.xlabel('Year')\n",
        "plt.ylabel('Goals Scored')\n",
        "plt.grid(True)\n",
        "plt.show()"
      ],
      "cell_type": "code",
      "metadata": {
        "colab": {
          "base_uri": "https://localhost:8080/",
          "height": 353
        },
        "id": "qgeNsmpHSA-Y",
        "outputId": "688f1682-3b3c-4aee-83da-dd6f0078757b"
      },
      "execution_count": 39,
      "outputs": [
        {
          "output_type": "display_data",
          "data": {
            "text/plain": [
              "<Figure size 1200x600 with 1 Axes>"
            ],
            "image/png": "[encoded data removed]"
          },
          "metadata": {}
        }
      ]
    },
    {
      "cell_type": "markdown",
      "source": [
        "## Documentation:\n",
        "This code generates a line graph to illustrate the trend of goals scored in World Cup matches over the years. It uses the matplotlib.pyplot library for plotting."
      ],
      "metadata": {
        "id": "jmxaLi2FSblz"
      }
    },
    {
      "cell_type": "markdown",
      "source": [
        "# 17.\tCreate a bar chart displaying the number of World Cup wins per country."
      ],
      "metadata": {
        "id": "wkAP7amwSk5R"
      }
    },
    {
      "source": [
        "# Calculate win counts for each country\n",
        "win_counts = df['Winner'].value_counts()\n",
        "\n",
        "# Create the bar chart\n",
        "plt.figure(figsize=(12, 6))  # Adjust figure size as needed\n",
        "plt.bar(win_counts.index, win_counts.values)\n",
        "plt.title('Number of World Cup Wins per Country')\n",
        "plt.xlabel('Country')\n",
        "plt.ylabel('Number of Wins')\n",
        "plt.xticks(rotation=45, ha='right')  # Rotate x-axis labels for better readability\n",
        "plt.tight_layout()  # Adjust layout to prevent labels from overlapping\n",
        "plt.show()"
      ],
      "cell_type": "code",
      "metadata": {
        "colab": {
          "base_uri": "https://localhost:8080/",
          "height": 627
        },
        "id": "qQsdor1RS2TJ",
        "outputId": "21d8af9d-2481-4bee-c915-f04be9543e06"
      },
      "execution_count": 40,
      "outputs": [
        {
          "output_type": "display_data",
          "data": {
            "text/plain": [
              "<Figure size 1200x600 with 1 Axes>"
            ],
            "image/png": "[encoded data removed]"
          },
          "metadata": {}
        }
      ]
    },
    {
      "cell_type": "markdown",
      "source": [
        "## Documentation:\n",
        "This code generates a bar chart to display the number of World Cup wins per country, using the matplotlib.pyplot library."
      ],
      "metadata": {
        "id": "q2qH6nZzTp_R"
      }
    },
    {
      "cell_type": "markdown",
      "source": [],
      "metadata": {
        "id": "TILYtuHXVSag"
      }
    },
    {
      "cell_type": "markdown",
      "source": [
        "# 18.\tVisualize the trend of attendance over the years."
      ],
      "metadata": {
        "id": "xBrb2t6ZUQi6"
      }
    },
    {
      "source": [
        "# Assuming your DataFrame is named 'df' and has columns 'Year' and 'Attendance'\n",
        "\n",
        "# Convert 'Attendance' to numeric if needed\n",
        "df['Attendance'] = pd.to_numeric(df['Attendance'], errors='coerce')\n",
        "\n",
        "# Create the line plot\n",
        "plt.figure(figsize=(12, 6))  # Adjust figure size as needed\n",
        "plt.plot(df['Year'], df['Attendance'], marker='o', linestyle='-')\n",
        "plt.title('Trend of World Cup Attendance Over the Years')\n",
        "plt.xlabel('Year')\n",
        "plt.ylabel('Attendance')\n",
        "plt.grid(True)\n",
        "plt.show()"
      ],
      "cell_type": "code",
      "metadata": {
        "colab": {
          "base_uri": "https://localhost:8080/",
          "height": 353
        },
        "id": "E9b_CTyZUkwq",
        "outputId": "9c8f6bfc-4dd2-48a2-8d87-f7557e451149"
      },
      "execution_count": 41,
      "outputs": [
        {
          "output_type": "display_data",
          "data": {
            "text/plain": [
              "<Figure size 1200x600 with 1 Axes>"
            ],
            "image/png": "[encoded data removed]"
          },
          "metadata": {}
        }
      ]
    },
    {
      "cell_type": "markdown",
      "source": [
        "## Documentation:\n",
        "This code generates a line plot to illustrate the trend of World Cup attendance over the years, using the matplotlib.pyplot library."
      ],
      "metadata": {
        "id": "1_IN3mMSUyG9"
      }
    }
  ]
}