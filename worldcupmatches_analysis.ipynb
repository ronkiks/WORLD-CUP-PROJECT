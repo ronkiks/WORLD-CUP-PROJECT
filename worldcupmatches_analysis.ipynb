{
  "nbformat": 4,
  "nbformat_minor": 0,
  "metadata": {
    "colab": {
      "provenance": [],
      "authorship_tag": "ABX9TyNZJzVBm5sH8mvWLDaZ4SmF",
      "include_colab_link": true
    },
    "kernelspec": {
      "name": "python3",
      "display_name": "Python 3"
    },
    "language_info": {
      "name": "python"
    }
  },
  "cells": [
    {
      "cell_type": "markdown",
      "metadata": {
        "id": "view-in-github",
        "colab_type": "text"
      },
      "source": [
        "<a href=\"https://colab.research.google.com/github/ronkiks/WORLD-CUP-PROJECT/blob/main/worldcupmatches_analysis.ipynb\" target=\"_parent\"><img src=\"https://colab.research.google.com/assets/colab-badge.svg\" alt=\"Open In Colab\"/></a>"
      ]
    },
    {
      "cell_type": "code",
      "source": [
        "import numpy as np\n",
        "import pandas as pd\n",
        "import matplotlib.pyplot as plt\n",
        "import seaborn as sns"
      ],
      "metadata": {
        "id": "WlTYsN7ytSAM"
      },
      "execution_count": null,
      "outputs": []
    },
    {
      "cell_type": "markdown",
      "source": [
        "## Documentation:\n",
        "Import necessary libraries above shows data for analysis and visualization"
      ],
      "metadata": {
        "id": "eh5xs8uPCijy"
      }
    },
    {
      "cell_type": "code",
      "source": [
        "df = pd.read_csv('/content/WorldCupMatches.csv')"
      ],
      "metadata": {
        "id": "RlmqCFJhtoqz"
      },
      "execution_count": null,
      "outputs": []
    },
    {
      "cell_type": "markdown",
      "source": [
        "## Documentation:\n",
        "\n",
        "This line of code loads the World Cup Matches dataset into a Pandas DataFrame called df."
      ],
      "metadata": {
        "id": "kQTcNNZ5GtLf"
      }
    },
    {
      "cell_type": "code",
      "source": [
        "df"
      ],
      "metadata": {
        "colab": {
          "base_uri": "https://localhost:8080/",
          "height": 669
        },
        "id": "SGYX3819uPBy",
        "outputId": "ed7ee297-3580-42bf-bef1-243a82680583"
      },
      "execution_count": null,
      "outputs": [
        {
          "output_type": "execute_result",
          "data": {
            "text/plain": [
              "        Year              Datetime    Stage         Stadium         City  \\\n",
              "0     1930.0  13 Jul 1930 - 15:00   Group 1         Pocitos  Montevideo    \n",
              "1     1930.0  13 Jul 1930 - 15:00   Group 4  Parque Central  Montevideo    \n",
              "2     1930.0  14 Jul 1930 - 12:45   Group 2  Parque Central  Montevideo    \n",
              "3     1930.0  14 Jul 1930 - 14:50   Group 3         Pocitos  Montevideo    \n",
              "4     1930.0  15 Jul 1930 - 16:00   Group 1  Parque Central  Montevideo    \n",
              "...      ...                   ...      ...             ...          ...   \n",
              "4567     NaN                   NaN      NaN             NaN          NaN   \n",
              "4568     NaN                   NaN      NaN             NaN          NaN   \n",
              "4569     NaN                   NaN      NaN             NaN          NaN   \n",
              "4570     NaN                   NaN      NaN             NaN          NaN   \n",
              "4571     NaN                   NaN      NaN             NaN          NaN   \n",
              "\n",
              "     Home Team Name  Home Team Goals  Away Team Goals Away Team Name  \\\n",
              "0            France              4.0              1.0         Mexico   \n",
              "1               USA              3.0              0.0        Belgium   \n",
              "2        Yugoslavia              2.0              1.0         Brazil   \n",
              "3           Romania              3.0              1.0           Peru   \n",
              "4         Argentina              1.0              0.0         France   \n",
              "...             ...              ...              ...            ...   \n",
              "4567            NaN              NaN              NaN            NaN   \n",
              "4568            NaN              NaN              NaN            NaN   \n",
              "4569            NaN              NaN              NaN            NaN   \n",
              "4570            NaN              NaN              NaN            NaN   \n",
              "4571            NaN              NaN              NaN            NaN   \n",
              "\n",
              "     Win conditions  Attendance  Half-time Home Goals  Half-time Away Goals  \\\n",
              "0                        4444.0                   3.0                   0.0   \n",
              "1                       18346.0                   2.0                   0.0   \n",
              "2                       24059.0                   2.0                   0.0   \n",
              "3                        2549.0                   1.0                   0.0   \n",
              "4                       23409.0                   0.0                   0.0   \n",
              "...             ...         ...                   ...                   ...   \n",
              "4567            NaN         NaN                   NaN                   NaN   \n",
              "4568            NaN         NaN                   NaN                   NaN   \n",
              "4569            NaN         NaN                   NaN                   NaN   \n",
              "4570            NaN         NaN                   NaN                   NaN   \n",
              "4571            NaN         NaN                   NaN                   NaN   \n",
              "\n",
              "                     Referee               Assistant 1  \\\n",
              "0     LOMBARDI Domingo (URU)     CRISTOPHE Henry (BEL)   \n",
              "1          MACIAS Jose (ARG)  MATEUCCI Francisco (URU)   \n",
              "2        TEJADA Anibal (URU)   VALLARINO Ricardo (URU)   \n",
              "3      WARNKEN Alberto (CHI)       LANGENUS Jean (BEL)   \n",
              "4        REGO Gilberto (BRA)      SAUCEDO Ulises (BOL)   \n",
              "...                      ...                       ...   \n",
              "4567                     NaN                       NaN   \n",
              "4568                     NaN                       NaN   \n",
              "4569                     NaN                       NaN   \n",
              "4570                     NaN                       NaN   \n",
              "4571                     NaN                       NaN   \n",
              "\n",
              "                     Assistant 2  RoundID  MatchID Home Team Initials  \\\n",
              "0            REGO Gilberto (BRA)    201.0   1096.0                FRA   \n",
              "1          WARNKEN Alberto (CHI)    201.0   1090.0                USA   \n",
              "2            BALWAY Thomas (FRA)    201.0   1093.0                YUG   \n",
              "3       MATEUCCI Francisco (URU)    201.0   1098.0                ROU   \n",
              "4     RADULESCU Constantin (ROU)    201.0   1085.0                ARG   \n",
              "...                          ...      ...      ...                ...   \n",
              "4567                         NaN      NaN      NaN                NaN   \n",
              "4568                         NaN      NaN      NaN                NaN   \n",
              "4569                         NaN      NaN      NaN                NaN   \n",
              "4570                         NaN      NaN      NaN                NaN   \n",
              "4571                         NaN      NaN      NaN                NaN   \n",
              "\n",
              "     Away Team Initials  \n",
              "0                   MEX  \n",
              "1                   BEL  \n",
              "2                   BRA  \n",
              "3                   PER  \n",
              "4                   FRA  \n",
              "...                 ...  \n",
              "4567                NaN  \n",
              "4568                NaN  \n",
              "4569                NaN  \n",
              "4570                NaN  \n",
              "4571                NaN  \n",
              "\n",
              "[4572 rows x 20 columns]"
            ],
            "text/html": [
              "\n",
              "  <div id=\"df-be069f11-96ea-4a8a-ad88-c2af07d2b8fe\" class=\"colab-df-container\">\n",
              "    <div>\n",
              "<style scoped>\n",
              "    .dataframe tbody tr th:only-of-type {\n",
              "        vertical-align: middle;\n",
              "    }\n",
              "\n",
              "    .dataframe tbody tr th {\n",
              "        vertical-align: top;\n",
              "    }\n",
              "\n",
              "    .dataframe thead th {\n",
              "        text-align: right;\n",
              "    }\n",
              "</style>\n",
              "<table border=\"1\" class=\"dataframe\">\n",
              "  <thead>\n",
              "    <tr style=\"text-align: right;\">\n",
              "      <th></th>\n",
              "      <th>Year</th>\n",
              "      <th>Datetime</th>\n",
              "      <th>Stage</th>\n",
              "      <th>Stadium</th>\n",
              "      <th>City</th>\n",
              "      <th>Home Team Name</th>\n",
              "      <th>Home Team Goals</th>\n",
              "      <th>Away Team Goals</th>\n",
              "      <th>Away Team Name</th>\n",
              "      <th>Win conditions</th>\n",
              "      <th>Attendance</th>\n",
              "      <th>Half-time Home Goals</th>\n",
              "      <th>Half-time Away Goals</th>\n",
              "      <th>Referee</th>\n",
              "      <th>Assistant 1</th>\n",
              "      <th>Assistant 2</th>\n",
              "      <th>RoundID</th>\n",
              "      <th>MatchID</th>\n",
              "      <th>Home Team Initials</th>\n",
              "      <th>Away Team Initials</th>\n",
              "    </tr>\n",
              "  </thead>\n",
              "  <tbody>\n",
              "    <tr>\n",
              "      <th>0</th>\n",
              "      <td>1930.0</td>\n",
              "      <td>13 Jul 1930 - 15:00</td>\n",
              "      <td>Group 1</td>\n",
              "      <td>Pocitos</td>\n",
              "      <td>Montevideo</td>\n",
              "      <td>France</td>\n",
              "      <td>4.0</td>\n",
              "      <td>1.0</td>\n",
              "      <td>Mexico</td>\n",
              "      <td></td>\n",
              "      <td>4444.0</td>\n",
              "      <td>3.0</td>\n",
              "      <td>0.0</td>\n",
              "      <td>LOMBARDI Domingo (URU)</td>\n",
              "      <td>CRISTOPHE Henry (BEL)</td>\n",
              "      <td>REGO Gilberto (BRA)</td>\n",
              "      <td>201.0</td>\n",
              "      <td>1096.0</td>\n",
              "      <td>FRA</td>\n",
              "      <td>MEX</td>\n",
              "    </tr>\n",
              "    <tr>\n",
              "      <th>1</th>\n",
              "      <td>1930.0</td>\n",
              "      <td>13 Jul 1930 - 15:00</td>\n",
              "      <td>Group 4</td>\n",
              "      <td>Parque Central</td>\n",
              "      <td>Montevideo</td>\n",
              "      <td>USA</td>\n",
              "      <td>3.0</td>\n",
              "      <td>0.0</td>\n",
              "      <td>Belgium</td>\n",
              "      <td></td>\n",
              "      <td>18346.0</td>\n",
              "      <td>2.0</td>\n",
              "      <td>0.0</td>\n",
              "      <td>MACIAS Jose (ARG)</td>\n",
              "      <td>MATEUCCI Francisco (URU)</td>\n",
              "      <td>WARNKEN Alberto (CHI)</td>\n",
              "      <td>201.0</td>\n",
              "      <td>1090.0</td>\n",
              "      <td>USA</td>\n",
              "      <td>BEL</td>\n",
              "    </tr>\n",
              "    <tr>\n",
              "      <th>2</th>\n",
              "      <td>1930.0</td>\n",
              "      <td>14 Jul 1930 - 12:45</td>\n",
              "      <td>Group 2</td>\n",
              "      <td>Parque Central</td>\n",
              "      <td>Montevideo</td>\n",
              "      <td>Yugoslavia</td>\n",
              "      <td>2.0</td>\n",
              "      <td>1.0</td>\n",
              "      <td>Brazil</td>\n",
              "      <td></td>\n",
              "      <td>24059.0</td>\n",
              "      <td>2.0</td>\n",
              "      <td>0.0</td>\n",
              "      <td>TEJADA Anibal (URU)</td>\n",
              "      <td>VALLARINO Ricardo (URU)</td>\n",
              "      <td>BALWAY Thomas (FRA)</td>\n",
              "      <td>201.0</td>\n",
              "      <td>1093.0</td>\n",
              "      <td>YUG</td>\n",
              "      <td>BRA</td>\n",
              "    </tr>\n",
              "    <tr>\n",
              "      <th>3</th>\n",
              "      <td>1930.0</td>\n",
              "      <td>14 Jul 1930 - 14:50</td>\n",
              "      <td>Group 3</td>\n",
              "      <td>Pocitos</td>\n",
              "      <td>Montevideo</td>\n",
              "      <td>Romania</td>\n",
              "      <td>3.0</td>\n",
              "      <td>1.0</td>\n",
              "      <td>Peru</td>\n",
              "      <td></td>\n",
              "      <td>2549.0</td>\n",
              "      <td>1.0</td>\n",
              "      <td>0.0</td>\n",
              "      <td>WARNKEN Alberto (CHI)</td>\n",
              "      <td>LANGENUS Jean (BEL)</td>\n",
              "      <td>MATEUCCI Francisco (URU)</td>\n",
              "      <td>201.0</td>\n",
              "      <td>1098.0</td>\n",
              "      <td>ROU</td>\n",
              "      <td>PER</td>\n",
              "    </tr>\n",
              "    <tr>\n",
              "      <th>4</th>\n",
              "      <td>1930.0</td>\n",
              "      <td>15 Jul 1930 - 16:00</td>\n",
              "      <td>Group 1</td>\n",
              "      <td>Parque Central</td>\n",
              "      <td>Montevideo</td>\n",
              "      <td>Argentina</td>\n",
              "      <td>1.0</td>\n",
              "      <td>0.0</td>\n",
              "      <td>France</td>\n",
              "      <td></td>\n",
              "      <td>23409.0</td>\n",
              "      <td>0.0</td>\n",
              "      <td>0.0</td>\n",
              "      <td>REGO Gilberto (BRA)</td>\n",
              "      <td>SAUCEDO Ulises (BOL)</td>\n",
              "      <td>RADULESCU Constantin (ROU)</td>\n",
              "      <td>201.0</td>\n",
              "      <td>1085.0</td>\n",
              "      <td>ARG</td>\n",
              "      <td>FRA</td>\n",
              "    </tr>\n",
              "    <tr>\n",
              "      <th>...</th>\n",
              "      <td>...</td>\n",
              "      <td>...</td>\n",
              "      <td>...</td>\n",
              "      <td>...</td>\n",
              "      <td>...</td>\n",
              "      <td>...</td>\n",
              "      <td>...</td>\n",
              "      <td>...</td>\n",
              "      <td>...</td>\n",
              "      <td>...</td>\n",
              "      <td>...</td>\n",
              "      <td>...</td>\n",
              "      <td>...</td>\n",
              "      <td>...</td>\n",
              "      <td>...</td>\n",
              "      <td>...</td>\n",
              "      <td>...</td>\n",
              "      <td>...</td>\n",
              "      <td>...</td>\n",
              "      <td>...</td>\n",
              "    </tr>\n",
              "    <tr>\n",
              "      <th>4567</th>\n",
              "      <td>NaN</td>\n",
              "      <td>NaN</td>\n",
              "      <td>NaN</td>\n",
              "      <td>NaN</td>\n",
              "      <td>NaN</td>\n",
              "      <td>NaN</td>\n",
              "      <td>NaN</td>\n",
              "      <td>NaN</td>\n",
              "      <td>NaN</td>\n",
              "      <td>NaN</td>\n",
              "      <td>NaN</td>\n",
              "      <td>NaN</td>\n",
              "      <td>NaN</td>\n",
              "      <td>NaN</td>\n",
              "      <td>NaN</td>\n",
              "      <td>NaN</td>\n",
              "      <td>NaN</td>\n",
              "      <td>NaN</td>\n",
              "      <td>NaN</td>\n",
              "      <td>NaN</td>\n",
              "    </tr>\n",
              "    <tr>\n",
              "      <th>4568</th>\n",
              "      <td>NaN</td>\n",
              "      <td>NaN</td>\n",
              "      <td>NaN</td>\n",
              "      <td>NaN</td>\n",
              "      <td>NaN</td>\n",
              "      <td>NaN</td>\n",
              "      <td>NaN</td>\n",
              "      <td>NaN</td>\n",
              "      <td>NaN</td>\n",
              "      <td>NaN</td>\n",
              "      <td>NaN</td>\n",
              "      <td>NaN</td>\n",
              "      <td>NaN</td>\n",
              "      <td>NaN</td>\n",
              "      <td>NaN</td>\n",
              "      <td>NaN</td>\n",
              "      <td>NaN</td>\n",
              "      <td>NaN</td>\n",
              "      <td>NaN</td>\n",
              "      <td>NaN</td>\n",
              "    </tr>\n",
              "    <tr>\n",
              "      <th>4569</th>\n",
              "      <td>NaN</td>\n",
              "      <td>NaN</td>\n",
              "      <td>NaN</td>\n",
              "      <td>NaN</td>\n",
              "      <td>NaN</td>\n",
              "      <td>NaN</td>\n",
              "      <td>NaN</td>\n",
              "      <td>NaN</td>\n",
              "      <td>NaN</td>\n",
              "      <td>NaN</td>\n",
              "      <td>NaN</td>\n",
              "      <td>NaN</td>\n",
              "      <td>NaN</td>\n",
              "      <td>NaN</td>\n",
              "      <td>NaN</td>\n",
              "      <td>NaN</td>\n",
              "      <td>NaN</td>\n",
              "      <td>NaN</td>\n",
              "      <td>NaN</td>\n",
              "      <td>NaN</td>\n",
              "    </tr>\n",
              "    <tr>\n",
              "      <th>4570</th>\n",
              "      <td>NaN</td>\n",
              "      <td>NaN</td>\n",
              "      <td>NaN</td>\n",
              "      <td>NaN</td>\n",
              "      <td>NaN</td>\n",
              "      <td>NaN</td>\n",
              "      <td>NaN</td>\n",
              "      <td>NaN</td>\n",
              "      <td>NaN</td>\n",
              "      <td>NaN</td>\n",
              "      <td>NaN</td>\n",
              "      <td>NaN</td>\n",
              "      <td>NaN</td>\n",
              "      <td>NaN</td>\n",
              "      <td>NaN</td>\n",
              "      <td>NaN</td>\n",
              "      <td>NaN</td>\n",
              "      <td>NaN</td>\n",
              "      <td>NaN</td>\n",
              "      <td>NaN</td>\n",
              "    </tr>\n",
              "    <tr>\n",
              "      <th>4571</th>\n",
              "      <td>NaN</td>\n",
              "      <td>NaN</td>\n",
              "      <td>NaN</td>\n",
              "      <td>NaN</td>\n",
              "      <td>NaN</td>\n",
              "      <td>NaN</td>\n",
              "      <td>NaN</td>\n",
              "      <td>NaN</td>\n",
              "      <td>NaN</td>\n",
              "      <td>NaN</td>\n",
              "      <td>NaN</td>\n",
              "      <td>NaN</td>\n",
              "      <td>NaN</td>\n",
              "      <td>NaN</td>\n",
              "      <td>NaN</td>\n",
              "      <td>NaN</td>\n",
              "      <td>NaN</td>\n",
              "      <td>NaN</td>\n",
              "      <td>NaN</td>\n",
              "      <td>NaN</td>\n",
              "    </tr>\n",
              "  </tbody>\n",
              "</table>\n",
              "<p>4572 rows × 20 columns</p>\n",
              "</div>\n",
              "    <div class=\"colab-df-buttons\">\n",
              "\n",
              "  <div class=\"colab-df-container\">\n",
              "    <button class=\"colab-df-convert\" onclick=\"convertToInteractive('df-be069f11-96ea-4a8a-ad88-c2af07d2b8fe')\"\n",
              "            title=\"Convert this dataframe to an interactive table.\"\n",
              "            style=\"display:none;\">\n",
              "\n",
              "  <svg xmlns=\"http://www.w3.org/2000/svg\" height=\"24px\" viewBox=\"0 -960 960 960\">\n",
              "    <path d=\"M120-120v-720h720v720H120Zm60-500h600v-160H180v160Zm220 220h160v-160H400v160Zm0 220h160v-160H400v160ZM180-400h160v-160H180v160Zm440 0h160v-160H620v160ZM180-180h160v-160H180v160Zm440 0h160v-160H620v160Z\"/>\n",
              "  </svg>\n",
              "    </button>\n",
              "\n",
              "  <style>\n",
              "    .colab-df-container {\n",
              "      display:flex;\n",
              "      gap: 12px;\n",
              "    }\n",
              "\n",
              "    .colab-df-convert {\n",
              "      background-color: #E8F0FE;\n",
              "      border: none;\n",
              "      border-radius: 50%;\n",
              "      cursor: pointer;\n",
              "      display: none;\n",
              "      fill: #1967D2;\n",
              "      height: 32px;\n",
              "      padding: 0 0 0 0;\n",
              "      width: 32px;\n",
              "    }\n",
              "\n",
              "    .colab-df-convert:hover {\n",
              "      background-color: #E2EBFA;\n",
              "      box-shadow: 0px 1px 2px rgba(60, 64, 67, 0.3), 0px 1px 3px 1px rgba(60, 64, 67, 0.15);\n",
              "      fill: #174EA6;\n",
              "    }\n",
              "\n",
              "    .colab-df-buttons div {\n",
              "      margin-bottom: 4px;\n",
              "    }\n",
              "\n",
              "    [theme=dark] .colab-df-convert {\n",
              "      background-color: #3B4455;\n",
              "      fill: #D2E3FC;\n",
              "    }\n",
              "\n",
              "    [theme=dark] .colab-df-convert:hover {\n",
              "      background-color: #434B5C;\n",
              "      box-shadow: 0px 1px 3px 1px rgba(0, 0, 0, 0.15);\n",
              "      filter: drop-shadow(0px 1px 2px rgba(0, 0, 0, 0.3));\n",
              "      fill: #FFFFFF;\n",
              "    }\n",
              "  </style>\n",
              "\n",
              "    <script>\n",
              "      const buttonEl =\n",
              "        document.querySelector('#df-be069f11-96ea-4a8a-ad88-c2af07d2b8fe button.colab-df-convert');\n",
              "      buttonEl.style.display =\n",
              "        google.colab.kernel.accessAllowed ? 'block' : 'none';\n",
              "\n",
              "      async function convertToInteractive(key) {\n",
              "        const element = document.querySelector('#df-be069f11-96ea-4a8a-ad88-c2af07d2b8fe');\n",
              "        const dataTable =\n",
              "          await google.colab.kernel.invokeFunction('convertToInteractive',\n",
              "                                                    [key], {});\n",
              "        if (!dataTable) return;\n",
              "\n",
              "        const docLinkHtml = 'Like what you see? Visit the ' +\n",
              "          '<a target=\"_blank\" href=https://colab.research.google.com/notebooks/data_table.ipynb>data table notebook</a>'\n",
              "          + ' to learn more about interactive tables.';\n",
              "        element.innerHTML = '';\n",
              "        dataTable['output_type'] = 'display_data';\n",
              "        await google.colab.output.renderOutput(dataTable, element);\n",
              "        const docLink = document.createElement('div');\n",
              "        docLink.innerHTML = docLinkHtml;\n",
              "        element.appendChild(docLink);\n",
              "      }\n",
              "    </script>\n",
              "  </div>\n",
              "\n",
              "\n",
              "<div id=\"df-5736edc0-e631-4336-ba27-9195b5eac391\">\n",
              "  <button class=\"colab-df-quickchart\" onclick=\"quickchart('df-5736edc0-e631-4336-ba27-9195b5eac391')\"\n",
              "            title=\"Suggest charts\"\n",
              "            style=\"display:none;\">\n",
              "\n",
              "<svg xmlns=\"http://www.w3.org/2000/svg\" height=\"24px\"viewBox=\"0 0 24 24\"\n",
              "     width=\"24px\">\n",
              "    <g>\n",
              "        <path d=\"M19 3H5c-1.1 0-2 .9-2 2v14c0 1.1.9 2 2 2h14c1.1 0 2-.9 2-2V5c0-1.1-.9-2-2-2zM9 17H7v-7h2v7zm4 0h-2V7h2v10zm4 0h-2v-4h2v4z\"/>\n",
              "    </g>\n",
              "</svg>\n",
              "  </button>\n",
              "\n",
              "<style>\n",
              "  .colab-df-quickchart {\n",
              "      --bg-color: #E8F0FE;\n",
              "      --fill-color: #1967D2;\n",
              "      --hover-bg-color: #E2EBFA;\n",
              "      --hover-fill-color: #174EA6;\n",
              "      --disabled-fill-color: #AAA;\n",
              "      --disabled-bg-color: #DDD;\n",
              "  }\n",
              "\n",
              "  [theme=dark] .colab-df-quickchart {\n",
              "      --bg-color: #3B4455;\n",
              "      --fill-color: #D2E3FC;\n",
              "      --hover-bg-color: #434B5C;\n",
              "      --hover-fill-color: #FFFFFF;\n",
              "      --disabled-bg-color: #3B4455;\n",
              "      --disabled-fill-color: #666;\n",
              "  }\n",
              "\n",
              "  .colab-df-quickchart {\n",
              "    background-color: var(--bg-color);\n",
              "    border: none;\n",
              "    border-radius: 50%;\n",
              "    cursor: pointer;\n",
              "    display: none;\n",
              "    fill: var(--fill-color);\n",
              "    height: 32px;\n",
              "    padding: 0;\n",
              "    width: 32px;\n",
              "  }\n",
              "\n",
              "  .colab-df-quickchart:hover {\n",
              "    background-color: var(--hover-bg-color);\n",
              "    box-shadow: 0 1px 2px rgba(60, 64, 67, 0.3), 0 1px 3px 1px rgba(60, 64, 67, 0.15);\n",
              "    fill: var(--button-hover-fill-color);\n",
              "  }\n",
              "\n",
              "  .colab-df-quickchart-complete:disabled,\n",
              "  .colab-df-quickchart-complete:disabled:hover {\n",
              "    background-color: var(--disabled-bg-color);\n",
              "    fill: var(--disabled-fill-color);\n",
              "    box-shadow: none;\n",
              "  }\n",
              "\n",
              "  .colab-df-spinner {\n",
              "    border: 2px solid var(--fill-color);\n",
              "    border-color: transparent;\n",
              "    border-bottom-color: var(--fill-color);\n",
              "    animation:\n",
              "      spin 1s steps(1) infinite;\n",
              "  }\n",
              "\n",
              "  @keyframes spin {\n",
              "    0% {\n",
              "      border-color: transparent;\n",
              "      border-bottom-color: var(--fill-color);\n",
              "      border-left-color: var(--fill-color);\n",
              "    }\n",
              "    20% {\n",
              "      border-color: transparent;\n",
              "      border-left-color: var(--fill-color);\n",
              "      border-top-color: var(--fill-color);\n",
              "    }\n",
              "    30% {\n",
              "      border-color: transparent;\n",
              "      border-left-color: var(--fill-color);\n",
              "      border-top-color: var(--fill-color);\n",
              "      border-right-color: var(--fill-color);\n",
              "    }\n",
              "    40% {\n",
              "      border-color: transparent;\n",
              "      border-right-color: var(--fill-color);\n",
              "      border-top-color: var(--fill-color);\n",
              "    }\n",
              "    60% {\n",
              "      border-color: transparent;\n",
              "      border-right-color: var(--fill-color);\n",
              "    }\n",
              "    80% {\n",
              "      border-color: transparent;\n",
              "      border-right-color: var(--fill-color);\n",
              "      border-bottom-color: var(--fill-color);\n",
              "    }\n",
              "    90% {\n",
              "      border-color: transparent;\n",
              "      border-bottom-color: var(--fill-color);\n",
              "    }\n",
              "  }\n",
              "</style>\n",
              "\n",
              "  <script>\n",
              "    async function quickchart(key) {\n",
              "      const quickchartButtonEl =\n",
              "        document.querySelector('#' + key + ' button');\n",
              "      quickchartButtonEl.disabled = true;  // To prevent multiple clicks.\n",
              "      quickchartButtonEl.classList.add('colab-df-spinner');\n",
              "      try {\n",
              "        const charts = await google.colab.kernel.invokeFunction(\n",
              "            'suggestCharts', [key], {});\n",
              "      } catch (error) {\n",
              "        console.error('Error during call to suggestCharts:', error);\n",
              "      }\n",
              "      quickchartButtonEl.classList.remove('colab-df-spinner');\n",
              "      quickchartButtonEl.classList.add('colab-df-quickchart-complete');\n",
              "    }\n",
              "    (() => {\n",
              "      let quickchartButtonEl =\n",
              "        document.querySelector('#df-5736edc0-e631-4336-ba27-9195b5eac391 button');\n",
              "      quickchartButtonEl.style.display =\n",
              "        google.colab.kernel.accessAllowed ? 'block' : 'none';\n",
              "    })();\n",
              "  </script>\n",
              "</div>\n",
              "\n",
              "  <div id=\"id_2628f565-5e5d-4662-aed4-2e1eaebed72b\">\n",
              "    <style>\n",
              "      .colab-df-generate {\n",
              "        background-color: #E8F0FE;\n",
              "        border: none;\n",
              "        border-radius: 50%;\n",
              "        cursor: pointer;\n",
              "        display: none;\n",
              "        fill: #1967D2;\n",
              "        height: 32px;\n",
              "        padding: 0 0 0 0;\n",
              "        width: 32px;\n",
              "      }\n",
              "\n",
              "      .colab-df-generate:hover {\n",
              "        background-color: #E2EBFA;\n",
              "        box-shadow: 0px 1px 2px rgba(60, 64, 67, 0.3), 0px 1px 3px 1px rgba(60, 64, 67, 0.15);\n",
              "        fill: #174EA6;\n",
              "      }\n",
              "\n",
              "      [theme=dark] .colab-df-generate {\n",
              "        background-color: #3B4455;\n",
              "        fill: #D2E3FC;\n",
              "      }\n",
              "\n",
              "      [theme=dark] .colab-df-generate:hover {\n",
              "        background-color: #434B5C;\n",
              "        box-shadow: 0px 1px 3px 1px rgba(0, 0, 0, 0.15);\n",
              "        filter: drop-shadow(0px 1px 2px rgba(0, 0, 0, 0.3));\n",
              "        fill: #FFFFFF;\n",
              "      }\n",
              "    </style>\n",
              "    <button class=\"colab-df-generate\" onclick=\"generateWithVariable('df')\"\n",
              "            title=\"Generate code using this dataframe.\"\n",
              "            style=\"display:none;\">\n",
              "\n",
              "  <svg xmlns=\"http://www.w3.org/2000/svg\" height=\"24px\"viewBox=\"0 0 24 24\"\n",
              "       width=\"24px\">\n",
              "    <path d=\"M7,19H8.4L18.45,9,17,7.55,7,17.6ZM5,21V16.75L18.45,3.32a2,2,0,0,1,2.83,0l1.4,1.43a1.91,1.91,0,0,1,.58,1.4,1.91,1.91,0,0,1-.58,1.4L9.25,21ZM18.45,9,17,7.55Zm-12,3A5.31,5.31,0,0,0,4.9,8.1,5.31,5.31,0,0,0,1,6.5,5.31,5.31,0,0,0,4.9,4.9,5.31,5.31,0,0,0,6.5,1,5.31,5.31,0,0,0,8.1,4.9,5.31,5.31,0,0,0,12,6.5,5.46,5.46,0,0,0,6.5,12Z\"/>\n",
              "  </svg>\n",
              "    </button>\n",
              "    <script>\n",
              "      (() => {\n",
              "      const buttonEl =\n",
              "        document.querySelector('#id_2628f565-5e5d-4662-aed4-2e1eaebed72b button.colab-df-generate');\n",
              "      buttonEl.style.display =\n",
              "        google.colab.kernel.accessAllowed ? 'block' : 'none';\n",
              "\n",
              "      buttonEl.onclick = () => {\n",
              "        google.colab.notebook.generateWithVariable('df');\n",
              "      }\n",
              "      })();\n",
              "    </script>\n",
              "  </div>\n",
              "\n",
              "    </div>\n",
              "  </div>\n"
            ],
            "application/vnd.google.colaboratory.intrinsic+json": {
              "type": "dataframe",
              "variable_name": "df",
              "summary": "{\n  \"name\": \"df\",\n  \"rows\": 4572,\n  \"fields\": [\n    {\n      \"column\": \"Year\",\n      \"properties\": {\n        \"dtype\": \"number\",\n        \"std\": 22.44882470202141,\n        \"min\": 1930.0,\n        \"max\": 2014.0,\n        \"num_unique_values\": 20,\n        \"samples\": [\n          1930.0,\n          2006.0,\n          1998.0\n        ],\n        \"semantic_type\": \"\",\n        \"description\": \"\"\n      }\n    },\n    {\n      \"column\": \"Datetime\",\n      \"properties\": {\n        \"dtype\": \"category\",\n        \"num_unique_values\": 602,\n        \"samples\": [\n          \"15 Jun 1974 - 18:00 \",\n          \"16 Jun 2002 - 15:30 \",\n          \"20 Jun 2014 - 13:00 \"\n        ],\n        \"semantic_type\": \"\",\n        \"description\": \"\"\n      }\n    },\n    {\n      \"column\": \"Stage\",\n      \"properties\": {\n        \"dtype\": \"category\",\n        \"num_unique_values\": 23,\n        \"samples\": [\n          \"Group D\",\n          \"First round\",\n          \"Group 1\"\n        ],\n        \"semantic_type\": \"\",\n        \"description\": \"\"\n      }\n    },\n    {\n      \"column\": \"Stadium\",\n      \"properties\": {\n        \"dtype\": \"category\",\n        \"num_unique_values\": 181,\n        \"samples\": [\n          \"Victor Boucquey\",\n          \"Olympia Stadium\",\n          \"Zentralstadion\"\n        ],\n        \"semantic_type\": \"\",\n        \"description\": \"\"\n      }\n    },\n    {\n      \"column\": \"City\",\n      \"properties\": {\n        \"dtype\": \"category\",\n        \"num_unique_values\": 151,\n        \"samples\": [\n          \"La Coru\\ufffdA \",\n          \"Antibes \",\n          \"Oviedo \"\n        ],\n        \"semantic_type\": \"\",\n        \"description\": \"\"\n      }\n    },\n    {\n      \"column\": \"Home Team Name\",\n      \"properties\": {\n        \"dtype\": \"category\",\n        \"num_unique_values\": 78,\n        \"samples\": [\n          \"Australia\",\n          \"France\",\n          \"Scotland\"\n        ],\n        \"semantic_type\": \"\",\n        \"description\": \"\"\n      }\n    },\n    {\n      \"column\": \"Home Team Goals\",\n      \"properties\": {\n        \"dtype\": \"number\",\n        \"std\": 1.6102551385229713,\n        \"min\": 0.0,\n        \"max\": 10.0,\n        \"num_unique_values\": 11,\n        \"samples\": [\n          5.0,\n          4.0,\n          0.0\n        ],\n        \"semantic_type\": \"\",\n        \"description\": \"\"\n      }\n    },\n    {\n      \"column\": \"Away Team Goals\",\n      \"properties\": {\n        \"dtype\": \"number\",\n        \"std\": 1.0875733783096078,\n        \"min\": 0.0,\n        \"max\": 7.0,\n        \"num_unique_values\": 7,\n        \"samples\": [\n          1.0,\n          0.0,\n          4.0\n        ],\n        \"semantic_type\": \"\",\n        \"description\": \"\"\n      }\n    },\n    {\n      \"column\": \"Away Team Name\",\n      \"properties\": {\n        \"dtype\": \"category\",\n        \"num_unique_values\": 83,\n        \"samples\": [\n          \"Germany FR\",\n          \"Mexico\",\n          \"Norway\"\n        ],\n        \"semantic_type\": \"\",\n        \"description\": \"\"\n      }\n    },\n    {\n      \"column\": \"Win conditions\",\n      \"properties\": {\n        \"dtype\": \"category\",\n        \"num_unique_values\": 43,\n        \"samples\": [\n          \"Uruguay win on penalties (4 - 2) \",\n          \"Sweden win on penalties (4 - 5) \",\n          \"Brazil win on penalties (3 - 2) \"\n        ],\n        \"semantic_type\": \"\",\n        \"description\": \"\"\n      }\n    },\n    {\n      \"column\": \"Attendance\",\n      \"properties\": {\n        \"dtype\": \"number\",\n        \"std\": 23485.249247289223,\n        \"min\": 2000.0,\n        \"max\": 173850.0,\n        \"num_unique_values\": 622,\n        \"samples\": [\n          35258.0,\n          72404.0,\n          40248.0\n        ],\n        \"semantic_type\": \"\",\n        \"description\": \"\"\n      }\n    },\n    {\n      \"column\": \"Half-time Home Goals\",\n      \"properties\": {\n        \"dtype\": \"number\",\n        \"std\": 0.9374141286628032,\n        \"min\": 0.0,\n        \"max\": 6.0,\n        \"num_unique_values\": 7,\n        \"samples\": [\n          3.0,\n          2.0,\n          5.0\n        ],\n        \"semantic_type\": \"\",\n        \"description\": \"\"\n      }\n    },\n    {\n      \"column\": \"Half-time Away Goals\",\n      \"properties\": {\n        \"dtype\": \"number\",\n        \"std\": 0.6912518906955,\n        \"min\": 0.0,\n        \"max\": 5.0,\n        \"num_unique_values\": 6,\n        \"samples\": [\n          0.0,\n          1.0,\n          5.0\n        ],\n        \"semantic_type\": \"\",\n        \"description\": \"\"\n      }\n    },\n    {\n      \"column\": \"Referee\",\n      \"properties\": {\n        \"dtype\": \"category\",\n        \"num_unique_values\": 366,\n        \"samples\": [\n          \"SILVA ARCE Hernan (CHI)\",\n          \"AZON ROMA Ramon (ESP)\",\n          \"MATTEA Francesco (ITA)\"\n        ],\n        \"semantic_type\": \"\",\n        \"description\": \"\"\n      }\n    },\n    {\n      \"column\": \"Assistant 1\",\n      \"properties\": {\n        \"dtype\": \"category\",\n        \"num_unique_values\": 387,\n        \"samples\": [\n          \"FARAG Wagih (EGY)\",\n          \"JARGUZ Alojzy (POL)\",\n          \"VICUNA Claudio (CHI)\"\n        ],\n        \"semantic_type\": \"\",\n        \"description\": \"\"\n      }\n    },\n    {\n      \"column\": \"Assistant 2\",\n      \"properties\": {\n        \"dtype\": \"category\",\n        \"num_unique_values\": 408,\n        \"samples\": [\n          \"VAN NUFFEL Lucien (BEL)\",\n          \"BAMBRIDGE Christopher (AUS)\",\n          \"PARK Hae-Yong (KOR)\"\n        ],\n        \"semantic_type\": \"\",\n        \"description\": \"\"\n      }\n    },\n    {\n      \"column\": \"RoundID\",\n      \"properties\": {\n        \"dtype\": \"number\",\n        \"std\": 27296131.70287027,\n        \"min\": 201.0,\n        \"max\": 97410600.0,\n        \"num_unique_values\": 101,\n        \"samples\": [\n          97410200.0,\n          714.0,\n          338.0\n        ],\n        \"semantic_type\": \"\",\n        \"description\": \"\"\n      }\n    },\n    {\n      \"column\": \"MatchID\",\n      \"properties\": {\n        \"dtype\": \"number\",\n        \"std\": 111057171.67191158,\n        \"min\": 25.0,\n        \"max\": 300186515.0,\n        \"num_unique_values\": 836,\n        \"samples\": [\n          43950031.0,\n          300186460.0,\n          2215.0\n        ],\n        \"semantic_type\": \"\",\n        \"description\": \"\"\n      }\n    },\n    {\n      \"column\": \"Home Team Initials\",\n      \"properties\": {\n        \"dtype\": \"category\",\n        \"num_unique_values\": 77,\n        \"samples\": [\n          \"ARG\",\n          \"NED\",\n          \"HUN\"\n        ],\n        \"semantic_type\": \"\",\n        \"description\": \"\"\n      }\n    },\n    {\n      \"column\": \"Away Team Initials\",\n      \"properties\": {\n        \"dtype\": \"category\",\n        \"num_unique_values\": 82,\n        \"samples\": [\n          \"FRG\",\n          \"MEX\",\n          \"NOR\"\n        ],\n        \"semantic_type\": \"\",\n        \"description\": \"\"\n      }\n    }\n  ]\n}"
            }
          },
          "metadata": {},
          "execution_count": 4
        }
      ]
    },
    {
      "cell_type": "markdown",
      "source": [
        "## Documentation:\n",
        "\n",
        "df is a Pandas DataFrame that stores the World Cup Matches dataset."
      ],
      "metadata": {
        "id": "ND-b4cPuDigF"
      }
    },
    {
      "cell_type": "markdown",
      "source": [
        "# 2. What are the column names in the dataset?"
      ],
      "metadata": {
        "id": "LohCRVakucgP"
      }
    },
    {
      "cell_type": "code",
      "source": [
        "df.columns"
      ],
      "metadata": {
        "colab": {
          "base_uri": "https://localhost:8080/"
        },
        "id": "Hb1k3kJ0wRzD",
        "outputId": "d62bf70f-ce69-48b2-bf7c-474a187a9820"
      },
      "execution_count": null,
      "outputs": [
        {
          "output_type": "execute_result",
          "data": {
            "text/plain": [
              "Index(['Year', 'Datetime', 'Stage', 'Stadium', 'City', 'Home Team Name',\n",
              "       'Home Team Goals', 'Away Team Goals', 'Away Team Name',\n",
              "       'Win conditions', 'Attendance', 'Half-time Home Goals',\n",
              "       'Half-time Away Goals', 'Referee', 'Assistant 1', 'Assistant 2',\n",
              "       'RoundID', 'MatchID', 'Home Team Initials', 'Away Team Initials'],\n",
              "      dtype='object')"
            ]
          },
          "metadata": {},
          "execution_count": 5
        }
      ]
    },
    {
      "cell_type": "markdown",
      "source": [
        "## Documentation:\n",
        "\n",
        "df.columns is an attribute of the Pandas DataFrame df that provides access to the column labels (names) of the DataFrame."
      ],
      "metadata": {
        "id": "mhr4Uc5pJLbV"
      }
    },
    {
      "cell_type": "markdown",
      "source": [
        "# 3. How many matches are recorded in the dataset?"
      ],
      "metadata": {
        "id": "7itkqclMwZqQ"
      }
    },
    {
      "cell_type": "code",
      "source": [
        "df.shape[0]"
      ],
      "metadata": {
        "colab": {
          "base_uri": "https://localhost:8080/"
        },
        "id": "ovUZ1zMTwyVL",
        "outputId": "0a7dd62a-8e03-479b-b81d-a5d6626493df"
      },
      "execution_count": null,
      "outputs": [
        {
          "output_type": "execute_result",
          "data": {
            "text/plain": [
              "4572"
            ]
          },
          "metadata": {},
          "execution_count": 6
        }
      ]
    },
    {
      "cell_type": "markdown",
      "source": [
        "## Documentation:\n",
        "\n",
        "In the provided context, 4572 represents the number of rows in the DataFrame df, which stores the World Cup Matches dataset."
      ],
      "metadata": {
        "id": "PE6i0EGmJm2K"
      }
    },
    {
      "cell_type": "markdown",
      "source": [
        "# 4.  Are there any missing values in the dataset? If so, which columns have them?"
      ],
      "metadata": {
        "id": "jqkn9gAbxtuN"
      }
    },
    {
      "cell_type": "code",
      "source": [
        "df.isnull().any()"
      ],
      "metadata": {
        "colab": {
          "base_uri": "https://localhost:8080/",
          "height": 711
        },
        "id": "kAeJ4qWZzJxc",
        "outputId": "0dfcedc7-2465-4862-d504-cb3eb39642ee"
      },
      "execution_count": null,
      "outputs": [
        {
          "output_type": "execute_result",
          "data": {
            "text/plain": [
              "Year                    True\n",
              "Datetime                True\n",
              "Stage                   True\n",
              "Stadium                 True\n",
              "City                    True\n",
              "Home Team Name          True\n",
              "Home Team Goals         True\n",
              "Away Team Goals         True\n",
              "Away Team Name          True\n",
              "Win conditions          True\n",
              "Attendance              True\n",
              "Half-time Home Goals    True\n",
              "Half-time Away Goals    True\n",
              "Referee                 True\n",
              "Assistant 1             True\n",
              "Assistant 2             True\n",
              "RoundID                 True\n",
              "MatchID                 True\n",
              "Home Team Initials      True\n",
              "Away Team Initials      True\n",
              "dtype: bool"
            ],
            "text/html": [
              "<div>\n",
              "<style scoped>\n",
              "    .dataframe tbody tr th:only-of-type {\n",
              "        vertical-align: middle;\n",
              "    }\n",
              "\n",
              "    .dataframe tbody tr th {\n",
              "        vertical-align: top;\n",
              "    }\n",
              "\n",
              "    .dataframe thead th {\n",
              "        text-align: right;\n",
              "    }\n",
              "</style>\n",
              "<table border=\"1\" class=\"dataframe\">\n",
              "  <thead>\n",
              "    <tr style=\"text-align: right;\">\n",
              "      <th></th>\n",
              "      <th>0</th>\n",
              "    </tr>\n",
              "  </thead>\n",
              "  <tbody>\n",
              "    <tr>\n",
              "      <th>Year</th>\n",
              "      <td>True</td>\n",
              "    </tr>\n",
              "    <tr>\n",
              "      <th>Datetime</th>\n",
              "      <td>True</td>\n",
              "    </tr>\n",
              "    <tr>\n",
              "      <th>Stage</th>\n",
              "      <td>True</td>\n",
              "    </tr>\n",
              "    <tr>\n",
              "      <th>Stadium</th>\n",
              "      <td>True</td>\n",
              "    </tr>\n",
              "    <tr>\n",
              "      <th>City</th>\n",
              "      <td>True</td>\n",
              "    </tr>\n",
              "    <tr>\n",
              "      <th>Home Team Name</th>\n",
              "      <td>True</td>\n",
              "    </tr>\n",
              "    <tr>\n",
              "      <th>Home Team Goals</th>\n",
              "      <td>True</td>\n",
              "    </tr>\n",
              "    <tr>\n",
              "      <th>Away Team Goals</th>\n",
              "      <td>True</td>\n",
              "    </tr>\n",
              "    <tr>\n",
              "      <th>Away Team Name</th>\n",
              "      <td>True</td>\n",
              "    </tr>\n",
              "    <tr>\n",
              "      <th>Win conditions</th>\n",
              "      <td>True</td>\n",
              "    </tr>\n",
              "    <tr>\n",
              "      <th>Attendance</th>\n",
              "      <td>True</td>\n",
              "    </tr>\n",
              "    <tr>\n",
              "      <th>Half-time Home Goals</th>\n",
              "      <td>True</td>\n",
              "    </tr>\n",
              "    <tr>\n",
              "      <th>Half-time Away Goals</th>\n",
              "      <td>True</td>\n",
              "    </tr>\n",
              "    <tr>\n",
              "      <th>Referee</th>\n",
              "      <td>True</td>\n",
              "    </tr>\n",
              "    <tr>\n",
              "      <th>Assistant 1</th>\n",
              "      <td>True</td>\n",
              "    </tr>\n",
              "    <tr>\n",
              "      <th>Assistant 2</th>\n",
              "      <td>True</td>\n",
              "    </tr>\n",
              "    <tr>\n",
              "      <th>RoundID</th>\n",
              "      <td>True</td>\n",
              "    </tr>\n",
              "    <tr>\n",
              "      <th>MatchID</th>\n",
              "      <td>True</td>\n",
              "    </tr>\n",
              "    <tr>\n",
              "      <th>Home Team Initials</th>\n",
              "      <td>True</td>\n",
              "    </tr>\n",
              "    <tr>\n",
              "      <th>Away Team Initials</th>\n",
              "      <td>True</td>\n",
              "    </tr>\n",
              "  </tbody>\n",
              "</table>\n",
              "</div><br><label><b>dtype:</b> bool</label>"
            ]
          },
          "metadata": {},
          "execution_count": 7
        }
      ]
    },
    {
      "cell_type": "markdown",
      "source": [
        "## Documentation:\n",
        "\n",
        "df.isnull().any() is a Pandas expression that checks for missing values (NaN) in a DataFrame and returns a boolean Series indicating whether any missing values are present in each column."
      ],
      "metadata": {
        "id": "au8EjfRtLXxa"
      }
    },
    {
      "cell_type": "markdown",
      "source": [
        "# 5. Convert the \"Year\" column to an integer type."
      ],
      "metadata": {
        "id": "wsHH0fpjzcYX"
      }
    },
    {
      "cell_type": "code",
      "source": [
        "df['Year'] = df['Year'].astype(int, errors='ignore') # You can choose between raise, coerce, or ignore."
      ],
      "metadata": {
        "id": "xROLqAAYzmd_"
      },
      "execution_count": null,
      "outputs": []
    },
    {
      "cell_type": "markdown",
      "source": [
        "Documentation:\n",
        "\n",
        "This line of code converts the Year column of the DataFrame df to the integer data type. If any values in the Year column cannot be converted to integers, they will be left unchanged due to the errors='ignore' argument."
      ],
      "metadata": {
        "id": "JwPn_GqZMNHw"
      }
    },
    {
      "cell_type": "markdown",
      "source": [
        "# 6. Extract the year from the \"Datetime\" column and compare it with the \"Year\" column. Are they consistent?"
      ],
      "metadata": {
        "id": "Gn4wr3rv1DSp"
      }
    },
    {
      "cell_type": "code",
      "source": [
        "df['Datetime'] = pd.to_datetime(df['Datetime'], format='%d %B %Y - %H:%M ', errors='coerce')\n",
        "df['Extracted_Year'] = df['Datetime'].dt.year"
      ],
      "metadata": {
        "id": "2TuBEa4W4sIU"
      },
      "execution_count": null,
      "outputs": []
    },
    {
      "cell_type": "markdown",
      "source": [
        "## Documentation:\n",
        "These lines of code are used to convert the 'Datetime' column to a datetime object and then extract the year from it."
      ],
      "metadata": {
        "id": "YTCP4PStO-Kt"
      }
    },
    {
      "cell_type": "markdown",
      "source": [
        "# 7. What is the average number of goals scored in a World Cup match?"
      ],
      "metadata": {
        "id": "LYNIIKZD52ZB"
      }
    },
    {
      "cell_type": "code",
      "source": [
        "# Calculate the total goals scored by the 'Home Team' and 'Away Team'\n",
        "total_goals = df['Home Team Goals'].sum() + df['Away Team Goals'].sum()\n",
        "\n",
        "# Calculate the total number of matches played\n",
        "total_matches = df.shape[0]\n",
        "\n",
        "# Calculate the average goals per match\n",
        "average_goals = total_goals / total_matches\n",
        "\n",
        "# Print the result\n",
        "print(f\"The average number of goals scored in a World Cup match is: {average_goals:.2f}\")"
      ],
      "metadata": {
        "colab": {
          "base_uri": "https://localhost:8080/"
        },
        "id": "F_haecz66EvW",
        "outputId": "86aedbdf-3a7d-48a5-aa86-db6ca3da1baf"
      },
      "execution_count": null,
      "outputs": [
        {
          "output_type": "stream",
          "name": "stdout",
          "text": [
            "The average number of goals scored in a World Cup match is: 0.53\n"
          ]
        }
      ]
    },
    {
      "cell_type": "markdown",
      "source": [
        "## Documentation:\n",
        "The above indicates that, based on the dataset analyzed, the mean or average number of goals scored per match across all World Cup matches is approximately 0.53."
      ],
      "metadata": {
        "id": "6IC2baSSQD3s"
      }
    },
    {
      "cell_type": "markdown",
      "source": [
        "# 8.\tWhich match had the highest attendance?"
      ],
      "metadata": {
        "id": "-4GGc4-S6oBY"
      }
    },
    {
      "cell_type": "code",
      "source": [
        "# Find the row with the maximum attendance\n",
        "max_attendance_row = df.loc[df['Attendance'].idxmax()]\n",
        "\n",
        "# Extract the relevant information\n",
        "match = f\"{max_attendance_row['Home Team Name']} vs {max_attendance_row['Away Team Name']}\"\n",
        "year = max_attendance_row['Year']\n",
        "attendance = max_attendance_row['Attendance']\n",
        "\n",
        "# Print the result\n",
        "print(f\"The match with the highest attendance was: {match} in {year} with {attendance} attendees.\")"
      ],
      "metadata": {
        "colab": {
          "base_uri": "https://localhost:8080/"
        },
        "id": "6FJbEuML61MC",
        "outputId": "6e972adb-673b-4fd7-a59f-653995d1c2e7"
      },
      "execution_count": null,
      "outputs": [
        {
          "output_type": "stream",
          "name": "stdout",
          "text": [
            "The match with the highest attendance was: Uruguay vs Brazil in 1950.0 with 173850.0 attendees.\n"
          ]
        }
      ]
    },
    {
      "cell_type": "markdown",
      "source": [
        "## Documentation:\n",
        "The above identifies the specific World Cup match that had the largest recorded attendance in history, based on the provided dataset. It indicates that the final match between Uruguay and Brazil in the 1950 World Cup held the record with an attendance of 173,850 people."
      ],
      "metadata": {
        "id": "gAOVFNu7Q611"
      }
    },
    {
      "cell_type": "markdown",
      "source": [
        "# 9.\tWhat is the most common scoreline in World Cup history?"
      ],
      "metadata": {
        "id": "vzDIR4WO7LEJ"
      }
    },
    {
      "cell_type": "code",
      "source": [
        "# Create a new column representing the scoreline\n",
        "df['Scoreline'] = df['Home Team Goals'].astype(str) + '-' + df['Away Team Goals'].astype(str)\n",
        "\n",
        "# Get the most common scoreline using value_counts()\n",
        "most_common_scoreline = df['Scoreline'].value_counts().idxmax()\n",
        "\n",
        "# Get the frequency of the most common scoreline\n",
        "frequency = df['Scoreline'].value_counts().max()\n",
        "\n",
        "# Print the result\n",
        "print(f\"The most common scoreline in World Cup history is: {most_common_scoreline} (occurred {frequency} times)\")"
      ],
      "metadata": {
        "colab": {
          "base_uri": "https://localhost:8080/"
        },
        "id": "-xxIUprL7TBb",
        "outputId": "4e1a55fb-e207-41d6-e5f9-8b48f9d32ea3"
      },
      "execution_count": null,
      "outputs": [
        {
          "output_type": "stream",
          "name": "stdout",
          "text": [
            "The most common scoreline in World Cup history is: nan-nan (occurred 3720 times)\n"
          ]
        }
      ]
    },
    {
      "cell_type": "markdown",
      "source": [
        "## Documentation:\n",
        "This above indicates that the most frequent scoreline encountered in the analyzed World Cup dataset is \"nan-nan,\" which has appeared 3720 times."
      ],
      "metadata": {
        "id": "VJC17IyZR2JH"
      }
    },
    {
      "cell_type": "markdown",
      "source": [
        "# 10.\tWhich country has won the most matches as the home team?"
      ],
      "metadata": {
        "id": "BBrdrL-P7sKJ"
      }
    },
    {
      "cell_type": "code",
      "source": [
        "# Filter for matches where the home team won\n",
        "home_team_wins = df[df['Home Team Goals'] > df['Away Team Goals']]\n",
        "\n",
        "# Count the wins for each home team\n",
        "win_counts = home_team_wins['Home Team Name'].value_counts()\n",
        "\n",
        "# Get the team with the most wins\n",
        "most_wins_team = win_counts.idxmax()\n",
        "most_wins_count = win_counts.max()\n",
        "\n",
        "# Print the result\n",
        "print(f\"The country that has won the most matches as the home team is: {most_wins_team} with {most_wins_count} wins.\")"
      ],
      "metadata": {
        "colab": {
          "base_uri": "https://localhost:8080/"
        },
        "id": "TwBM8L7m75T8",
        "outputId": "53fdb3dc-ecae-4a99-8059-6b370f5cc747"
      },
      "execution_count": null,
      "outputs": [
        {
          "output_type": "stream",
          "name": "stdout",
          "text": [
            "The country that has won the most matches as the home team is: Brazil with 59 wins.\n"
          ]
        }
      ]
    },
    {
      "cell_type": "markdown",
      "source": [
        "## Documentation:\n",
        "This above identifies Brazil as the country with the highest number of victories when playing as the home team in World Cup matches, based on the dataset analyzed. It specifies that Brazil has achieved 59 wins in such matches."
      ],
      "metadata": {
        "id": "dL_aLz_TSzBT"
      }
    },
    {
      "cell_type": "markdown",
      "source": [
        "# 11.\tHow many goals were scored in each World Cup year?"
      ],
      "metadata": {
        "id": "m_OF4bfz8xf-"
      }
    },
    {
      "cell_type": "code",
      "source": [
        "# Group by 'Year' and sum the goals for each year\n",
        "goals_per_year = df.groupby('Year')[['Home Team Goals', 'Away Team Goals']].sum()\n",
        "\n",
        "# Calculate the total goals for each year\n",
        "goals_per_year['Total Goals'] = goals_per_year['Home Team Goals'] + goals_per_year['Away Team Goals']\n",
        "\n",
        "# Print the result\n",
        "print(goals_per_year[['Total Goals']])"
      ],
      "metadata": {
        "colab": {
          "base_uri": "https://localhost:8080/"
        },
        "id": "FAeGa8ly80Km",
        "outputId": "86db0501-34ad-4bf3-87f9-93679f3f74a6"
      },
      "execution_count": null,
      "outputs": [
        {
          "output_type": "stream",
          "name": "stdout",
          "text": [
            "        Total Goals\n",
            "Year               \n",
            "1930.0         70.0\n",
            "1934.0         70.0\n",
            "1938.0         84.0\n",
            "1950.0         88.0\n",
            "1954.0        140.0\n",
            "1958.0        126.0\n",
            "1962.0         89.0\n",
            "1966.0         89.0\n",
            "1970.0         95.0\n",
            "1974.0         97.0\n",
            "1978.0        102.0\n",
            "1982.0        146.0\n",
            "1986.0        132.0\n",
            "1990.0        115.0\n",
            "1994.0        141.0\n",
            "1998.0        171.0\n",
            "2002.0        161.0\n",
            "2006.0        147.0\n",
            "2010.0        145.0\n",
            "2014.0        206.0\n"
          ]
        }
      ]
    },
    {
      "cell_type": "markdown",
      "source": [
        "## Documentation:\n",
        "Data: The table shows the total number of goals scored in each World Cup year."
      ],
      "metadata": {
        "id": "F0CU_v1AUj-8"
      }
    },
    {
      "cell_type": "markdown",
      "source": [
        "## 12.\tWhat is the average attendance per World Cup year?"
      ],
      "metadata": {
        "id": "scWbp6Tg9A7f"
      }
    },
    {
      "cell_type": "code",
      "source": [
        "# Group by 'Year' and calculate the mean attendance for each year\n",
        "average_attendance_per_year = df.groupby('Year')['Attendance'].mean()\n",
        "\n",
        "# Print the result\n",
        "print(average_attendance_per_year)"
      ],
      "metadata": {
        "colab": {
          "base_uri": "https://localhost:8080/"
        },
        "id": "OoXUJ6-09JsK",
        "outputId": "b6dbff5d-e5a5-4261-b086-308fb9f3d96a"
      },
      "execution_count": null,
      "outputs": [
        {
          "output_type": "stream",
          "name": "stdout",
          "text": [
            "Year\n",
            "1930.0    32808.277778\n",
            "1934.0    21352.941176\n",
            "1938.0    20872.222222\n",
            "1950.0    47511.181818\n",
            "1954.0    29561.807692\n",
            "1958.0    23423.142857\n",
            "1962.0    27911.625000\n",
            "1966.0    48847.968750\n",
            "1970.0    50124.218750\n",
            "1974.0    49098.763158\n",
            "1978.0    40678.710526\n",
            "1982.0    40571.596154\n",
            "1986.0    46039.057692\n",
            "1990.0    48388.750000\n",
            "1994.0    68991.115385\n",
            "1998.0    43517.187500\n",
            "2002.0    42268.703125\n",
            "2006.0    52491.234375\n",
            "2010.0    49669.625000\n",
            "2014.0    55374.910256\n",
            "Name: Attendance, dtype: float64\n"
          ]
        }
      ]
    },
    {
      "cell_type": "markdown",
      "source": [
        "## Documentation:\n",
        "This data represents the average attendance per World Cup year."
      ],
      "metadata": {
        "id": "aaAFCtYYVjl2"
      }
    },
    {
      "cell_type": "markdown",
      "source": [
        "# 13.\tList all matches where Brazil played as either the home or away team."
      ],
      "metadata": {
        "id": "PrhEo4hJ9Ycg"
      }
    },
    {
      "cell_type": "code",
      "source": [
        "# Filter for matches where Brazil was either the home or away team\n",
        "brazil_matches = df[(df['Home Team Name'] == 'Brazil') | (df['Away Team Name'] == 'Brazil')]\n",
        "\n",
        "# Print the result\n",
        "print(brazil_matches)"
      ],
      "metadata": {
        "colab": {
          "base_uri": "https://localhost:8080/"
        },
        "id": "Gv7paeO19bAB",
        "outputId": "64c1f7fe-394b-45da-8f5a-6a31255d2a5e"
      },
      "execution_count": null,
      "outputs": [
        {
          "output_type": "stream",
          "name": "stdout",
          "text": [
            "       Year            Datetime                     Stage  \\\n",
            "2    1930.0                 NaT                   Group 2   \n",
            "11   1930.0                 NaT                   Group 2   \n",
            "23   1934.0 1934-05-27 16:30:00         Preliminary round   \n",
            "40   1938.0                 NaT               First round   \n",
            "44   1938.0                 NaT            Quarter-finals   \n",
            "..      ...                 ...                       ...   \n",
            "827  2014.0                 NaT  Play-off for third place   \n",
            "836  2014.0                 NaT               Round of 16   \n",
            "845  2014.0                 NaT            Quarter-finals   \n",
            "848  2014.0                 NaT               Semi-finals   \n",
            "850  2014.0                 NaT  Play-off for third place   \n",
            "\n",
            "                   Stadium             City Home Team Name  Home Team Goals  \\\n",
            "2           Parque Central      Montevideo      Yugoslavia              2.0   \n",
            "11      Estadio Centenario      Montevideo          Brazil              4.0   \n",
            "23          Luigi Ferraris           Genoa           Spain              3.0   \n",
            "40      Stade de la Meinau      Strasbourg          Brazil              6.0   \n",
            "44   Stade du Parc Lescure        Bordeaux          Brazil              1.0   \n",
            "..                     ...              ...            ...              ...   \n",
            "827       Estadio Nacional        Brasilia          Brazil              0.0   \n",
            "836       Estadio Mineirao  Belo Horizonte          Brazil              1.0   \n",
            "845       Estadio Castelao       Fortaleza          Brazil              2.0   \n",
            "848       Estadio Mineirao  Belo Horizonte          Brazil              1.0   \n",
            "850       Estadio Nacional        Brasilia          Brazil              0.0   \n",
            "\n",
            "     Away Team Goals  Away Team Name                    Win conditions  ...  \\\n",
            "2                1.0          Brazil                                    ...   \n",
            "11               0.0         Bolivia                                    ...   \n",
            "23               1.0          Brazil                                    ...   \n",
            "40               5.0          Poland      Brazil win after extra time   ...   \n",
            "44               1.0  Czechoslovakia                                    ...   \n",
            "..               ...             ...                               ...  ...   \n",
            "827              3.0     Netherlands                                    ...   \n",
            "836              1.0           Chile  Brazil win on penalties (3 - 2)   ...   \n",
            "845              1.0        Colombia                                    ...   \n",
            "848              7.0         Germany                                    ...   \n",
            "850              3.0     Netherlands                                    ...   \n",
            "\n",
            "     Half-time Away Goals                        Referee  \\\n",
            "2                     0.0            TEJADA Anibal (URU)   \n",
            "11                    0.0            BALWAY Thomas (FRA)   \n",
            "23                    0.0            BIRLEM Alfred (GER)   \n",
            "40                    0.0              EKLIND Ivan (SWE)   \n",
            "44                    0.0          VON HERTZKA Pal (HUN)   \n",
            "..                    ...                            ...   \n",
            "827                   2.0          HAIMOUDI Djamel (ALG)   \n",
            "836                   0.0              WEBB Howard (ENG)   \n",
            "845                   0.0  Carlos VELASCO CARBALLO (ESP)   \n",
            "848                   5.0          RODRIGUEZ Marco (MEX)   \n",
            "850                   2.0          HAIMOUDI Djamel (ALG)   \n",
            "\n",
            "                        Assistant 1                Assistant 2   RoundID  \\\n",
            "2           VALLARINO Ricardo (URU)        BALWAY Thomas (FRA)     201.0   \n",
            "11         MATEUCCI Francisco (URU)       VALLEJO Gaspar (MEX)     201.0   \n",
            "23           CARMINATI Ettore (ITA)     IVANCSICS Mihaly (HUN)     204.0   \n",
            "40             POISSANT Louis (FRA)  KISSENBERGER Ernest (FRA)     206.0   \n",
            "44            SCARPI Giuseppe (ITA)  DE LA SALLE Charles (FRA)     429.0   \n",
            "..                              ...                        ...       ...   \n",
            "827            ACHIK Redouane (MAR)    ETCHIALI Abdelhak (ALG)  255957.0   \n",
            "836         MULLARKEY Michael (ENG)          Darren CANN (ENG)  255951.0   \n",
            "845  ALONSO FERNANDEZ Roberto (ESP)           YUSTE Juan (ESP)  255953.0   \n",
            "848         TORRENTERA Marvin (MEX)      QUINTERO Marcos (MEX)  255955.0   \n",
            "850            ACHIK Redouane (MAR)    ETCHIALI Abdelhak (ALG)  255957.0   \n",
            "\n",
            "         MatchID  Home Team Initials  Away Team Initials Extracted_Year  \\\n",
            "2         1093.0                 YUG                 BRA            NaN   \n",
            "11        1091.0                 BRA                 BOL            NaN   \n",
            "23        1111.0                 ESP                 BRA         1934.0   \n",
            "40        1150.0                 BRA                 POL            NaN   \n",
            "44        1152.0                 BRA                 TCH            NaN   \n",
            "..           ...                 ...                 ...            ...   \n",
            "827  300186502.0                 BRA                 NED            NaN   \n",
            "836  300186487.0                 BRA                 CHI            NaN   \n",
            "845  300186461.0                 BRA                 COL            NaN   \n",
            "848  300186474.0                 BRA                 GER            NaN   \n",
            "850  300186502.0                 BRA                 NED            NaN   \n",
            "\n",
            "    Scoreline  \n",
            "2     2.0-1.0  \n",
            "11    4.0-0.0  \n",
            "23    3.0-1.0  \n",
            "40    6.0-5.0  \n",
            "44    1.0-1.0  \n",
            "..        ...  \n",
            "827   0.0-3.0  \n",
            "836   1.0-1.0  \n",
            "845   2.0-1.0  \n",
            "848   1.0-7.0  \n",
            "850   0.0-3.0  \n",
            "\n",
            "[108 rows x 22 columns]\n"
          ]
        }
      ]
    },
    {
      "cell_type": "markdown",
      "source": [
        "## Documentation:\n",
        "The above data represents a subset of the World Cup Matches dataset, filtered to show only matches where Brazil played as either the home or away team."
      ],
      "metadata": {
        "id": "ISazzFaeV26s"
      }
    },
    {
      "cell_type": "markdown",
      "source": [
        "##14.\tFind all matches that ended in a draw (same goals for both teams)."
      ],
      "metadata": {
        "id": "xQqhytmH95PA"
      }
    },
    {
      "cell_type": "code",
      "source": [
        "# Filter for matches where the home team goals equal the away team goals\n",
        "draw_matches = df[df['Home Team Goals'] == df['Away Team Goals']]\n",
        "\n",
        "# Print the result\n",
        "print(draw_matches)"
      ],
      "metadata": {
        "colab": {
          "base_uri": "https://localhost:8080/"
        },
        "id": "sDZGwwdA97L1",
        "outputId": "3c8bf458-9794-4b41-9816-c5c0bace6b1d"
      },
      "execution_count": null,
      "outputs": [
        {
          "output_type": "stream",
          "name": "stdout",
          "text": [
            "       Year            Datetime           Stage                Stadium  \\\n",
            "28   1934.0 1934-05-31 16:30:00  Quarter-finals         Giovanni Berta   \n",
            "35   1938.0                 NaT     First round       Parc des Princes   \n",
            "38   1938.0                 NaT     First round        Stade Municipal   \n",
            "44   1938.0                 NaT  Quarter-finals  Stade du Parc Lescure   \n",
            "58   1950.0                 NaT         Group 1               Pacaembu   \n",
            "..      ...                 ...             ...                    ...   \n",
            "833  2014.0                 NaT     Round of 16       Arena Pernambuco   \n",
            "836  2014.0                 NaT     Round of 16       Estadio Mineirao   \n",
            "839  2014.0                 NaT     Round of 16       Arena Pernambuco   \n",
            "847  2014.0                 NaT  Quarter-finals       Arena Fonte Nova   \n",
            "849  2014.0                 NaT     Semi-finals     Arena de Sao Paulo   \n",
            "\n",
            "                City Home Team Name  Home Team Goals  Away Team Goals  \\\n",
            "28         Florence           Italy              1.0              1.0   \n",
            "35            Paris     Switzerland              1.0              1.0   \n",
            "38         Toulouse            Cuba              3.0              3.0   \n",
            "44         Bordeaux          Brazil              1.0              1.0   \n",
            "58        Sao Paulo          Brazil              2.0              2.0   \n",
            "..               ...            ...              ...              ...   \n",
            "833          Recife      Costa Rica              1.0              1.0   \n",
            "836  Belo Horizonte          Brazil              1.0              1.0   \n",
            "839          Recife      Costa Rica              1.0              1.0   \n",
            "847        Salvador     Netherlands              0.0              0.0   \n",
            "849       Sao Paulo     Netherlands              0.0              0.0   \n",
            "\n",
            "     Away Team Name                         Win conditions  ...  \\\n",
            "28            Spain                                         ...   \n",
            "35          Germany                                         ...   \n",
            "38          Romania                                         ...   \n",
            "44   Czechoslovakia                                         ...   \n",
            "58      Switzerland                                         ...   \n",
            "..              ...                                    ...  ...   \n",
            "833          Greece   Costa Rica win on penalties (5 - 3)   ...   \n",
            "836           Chile       Brazil win on penalties (3 - 2)   ...   \n",
            "839          Greece   Costa Rica win on penalties (5 - 3)   ...   \n",
            "847      Costa Rica  Netherlands win on penalties (4 - 3)   ...   \n",
            "849       Argentina    Argentina win on penalties (2 - 4)   ...   \n",
            "\n",
            "     Half-time Away Goals                Referee                  Assistant 1  \\\n",
            "28                    0.0      BAERT Louis (BEL)        ZENISEK Bohumil (TCH)   \n",
            "35                    0.0    LANGENUS Jean (BEL)           MARENCO Paul (FRA)   \n",
            "38                    0.0  SCARPI Giuseppe (ITA)     VALPREDE Ferdinand (FRA)   \n",
            "44                    0.0  VON HERTZKA Pal (HUN)        SCARPI Giuseppe (ITA)   \n",
            "58                    1.0  AZON ROMA Ramon (ESP)      BUSTAMANTE Sergio (CHI)   \n",
            "..                    ...                    ...                          ...   \n",
            "833                   0.0     Ben WILLIAMS (AUS)          CREAM Matthew (AUS)   \n",
            "836                   0.0      WEBB Howard (ENG)      MULLARKEY Michael (ENG)   \n",
            "839                   0.0     Ben WILLIAMS (AUS)          CREAM Matthew (AUS)   \n",
            "847                   0.0  Ravshan IRMATOV (UZB)  RASULOV Abduxamidullo (UZB)   \n",
            "849                   0.0     C�neyt �AKIR (TUR)         DURAN Bahattin (TUR)   \n",
            "\n",
            "                    Assistant 2   RoundID      MatchID  Home Team Initials  \\\n",
            "28       IVANCSICS Mihaly (HUN)     418.0       1122.0                 ITA   \n",
            "35   VAN MOORSEL Johannes (NED)     206.0       1165.0                 SUI   \n",
            "38            MERKCX Jean (FRA)     206.0       1156.0                 CUB   \n",
            "44    DE LA SALLE Charles (FRA)     429.0       1152.0                 BRA   \n",
            "58     DE NICOLA Cayetano (PAR)     208.0       1188.0                 BRA   \n",
            "..                          ...       ...          ...                 ...   \n",
            "833            ANAZ Hakan (AUS)  255951.0  300186459.0                 CRC   \n",
            "836           Darren CANN (ENG)  255951.0  300186487.0                 BRA   \n",
            "839            ANAZ Hakan (AUS)  255951.0  300186459.0                 CRC   \n",
            "847    KOCHKAROV Bakhadyr (KGZ)  255953.0  300186488.0                 NED   \n",
            "849           ONGUN Tarik (TUR)  255955.0  300186490.0                 NED   \n",
            "\n",
            "     Away Team Initials Extracted_Year Scoreline  \n",
            "28                  ESP         1934.0   1.0-1.0  \n",
            "35                  GER            NaN   1.0-1.0  \n",
            "38                  ROU            NaN   3.0-3.0  \n",
            "44                  TCH            NaN   1.0-1.0  \n",
            "58                  SUI            NaN   2.0-2.0  \n",
            "..                  ...            ...       ...  \n",
            "833                 GRE            NaN   1.0-1.0  \n",
            "836                 CHI            NaN   1.0-1.0  \n",
            "839                 GRE            NaN   1.0-1.0  \n",
            "847                 CRC            NaN   0.0-0.0  \n",
            "849                 ARG            NaN   0.0-0.0  \n",
            "\n",
            "[190 rows x 22 columns]\n"
          ]
        }
      ]
    },
    {
      "cell_type": "markdown",
      "source": [
        "## Documentation:\n",
        "The above data represents all matches that ended in a draw during regular time. This includes matches that were later decided by penalties or extra time but initially ended with the same number of goals for both teams."
      ],
      "metadata": {
        "id": "pHJhg42fX_M_"
      }
    },
    {
      "cell_type": "markdown",
      "source": [
        "# 15.\tRetrieve all finals and their outcomes."
      ],
      "metadata": {
        "id": "0hYlpwEM-Kdu"
      }
    },
    {
      "cell_type": "code",
      "source": [
        "# Filter for matches where the Stage is 'Final'\n",
        "finals = df[df['Stage'] == 'Final']\n",
        "\n",
        "# Print the result\n",
        "print(finals[['Year', 'Home Team Name', 'Away Team Name', 'Home Team Goals', 'Away Team Goals']])"
      ],
      "metadata": {
        "colab": {
          "base_uri": "https://localhost:8080/"
        },
        "id": "A4opIQq3-QIr",
        "outputId": "7c039eb3-7814-4455-9297-9e1e615ce95d"
      },
      "execution_count": null,
      "outputs": [
        {
          "output_type": "stream",
          "name": "stdout",
          "text": [
            "       Year Home Team Name  Away Team Name  Home Team Goals  Away Team Goals\n",
            "17   1930.0        Uruguay       Argentina              4.0              2.0\n",
            "34   1934.0          Italy  Czechoslovakia              2.0              1.0\n",
            "52   1938.0          Italy         Hungary              4.0              2.0\n",
            "100  1954.0     Germany FR         Hungary              3.0              2.0\n",
            "135  1958.0         Brazil          Sweden              5.0              2.0\n",
            "167  1962.0         Brazil  Czechoslovakia              3.0              1.0\n",
            "199  1966.0        England      Germany FR              4.0              2.0\n",
            "231  1970.0         Brazil           Italy              4.0              1.0\n",
            "269  1974.0    Netherlands      Germany FR              1.0              2.0\n",
            "307  1978.0      Argentina     Netherlands              3.0              1.0\n",
            "359  1982.0          Italy      Germany FR              3.0              1.0\n",
            "411  1986.0      Argentina      Germany FR              3.0              2.0\n",
            "463  1990.0     Germany FR       Argentina              1.0              0.0\n",
            "515  1994.0         Brazil           Italy              0.0              0.0\n",
            "579  1998.0         Brazil          France              0.0              3.0\n",
            "643  2002.0        Germany          Brazil              0.0              2.0\n",
            "707  2006.0          Italy          France              1.0              1.0\n",
            "771  2010.0    Netherlands           Spain              0.0              1.0\n",
            "828  2014.0        Germany       Argentina              1.0              0.0\n",
            "851  2014.0        Germany       Argentina              1.0              0.0\n"
          ]
        }
      ]
    },
    {
      "cell_type": "markdown",
      "source": [
        "## Documentation:\n",
        "The above data represents the results of all World Cup final matches, including the year, the teams involved, and the final score."
      ],
      "metadata": {
        "id": "6h6v3rcNYZ5a"
      }
    },
    {
      "cell_type": "markdown",
      "source": [
        "# 16.\tPlot a histogram of match attendance over the years."
      ],
      "metadata": {
        "id": "uaaLuHJ2-idi"
      }
    },
    {
      "cell_type": "code",
      "source": [
        "import matplotlib.pyplot as plt\n",
        "import seaborn as sns\n",
        "\n",
        "# Create the histogram\n",
        "plt.figure(figsize=(10, 6))  # Adjust figure size if needed\n",
        "sns.histplot(df['Year'], bins=20, kde=False)  # Use seaborn for a nicer histogram\n",
        "\n",
        "plt.xlabel('Year')\n",
        "plt.ylabel('Attendance Frequency')\n",
        "plt.title('Distribution of Match Attendance Over the Years')\n",
        "plt.xticks(rotation=45, ha='right')  # Rotate x-axis labels for better readability\n",
        "plt.tight_layout()  # Adjust layout to prevent labels from overlapping\n",
        "plt.show()"
      ],
      "metadata": {
        "colab": {
          "base_uri": "https://localhost:8080/",
          "height": 391
        },
        "id": "DO42aIdR-osO",
        "outputId": "dde589b3-8098-4c34-af83-997a9ee1083a"
      },
      "execution_count": null,
      "outputs": [
        {
          "output_type": "display_data",
          "data": {
            "text/plain": [
              "<Figure size 1000x600 with 1 Axes>"
            ],
            "image/png": "[encoded data removed]"
          },
          "metadata": {}
        }
      ]
    },
    {
      "cell_type": "markdown",
      "source": [
        "## Documentation:\n",
        "This above histogram generate to visualize the distribution of match attendance over the years in the World Cup dataset."
      ],
      "metadata": {
        "id": "y5xdWZ0tZ1eX"
      }
    },
    {
      "cell_type": "markdown",
      "source": [
        "# 17.\tCreate a bar chart showing the total number of goals per World Cup."
      ],
      "metadata": {
        "id": "g7QiYR8p_cOF"
      }
    },
    {
      "cell_type": "code",
      "source": [
        "import matplotlib.pyplot as plt\n",
        "import seaborn as sns\n",
        "\n",
        "# Group by 'Year' and sum the goals for each year\n",
        "goals_per_year = df.groupby('Year')[['Home Team Goals', 'Away Team Goals']].sum()\n",
        "\n",
        "# Calculate the total goals for each year\n",
        "goals_per_year['Total Goals'] = goals_per_year['Home Team Goals'] + goals_per_year['Away Team Goals']\n",
        "\n",
        "# Create the bar chart\n",
        "plt.figure(figsize=(12, 6))  # Adjust figure size if needed\n",
        "sns.barplot(x=goals_per_year.index, y=goals_per_year['Total Goals'])\n",
        "\n",
        "plt.xlabel('World Cup Year')\n",
        "plt.ylabel('Total Goals Scored')\n",
        "plt.title('Total Goals Scored in Each World Cup')\n",
        "plt.xticks(rotation=45, ha='right')  # Rotate x-axis labels for"
      ],
      "metadata": {
        "colab": {
          "base_uri": "https://localhost:8080/",
          "height": 761
        },
        "id": "s0faHpu3_k1N",
        "outputId": "202ff8dc-3b6e-4ac0-e2a1-a265c5925daf"
      },
      "execution_count": null,
      "outputs": [
        {
          "output_type": "execute_result",
          "data": {
            "text/plain": [
              "([0, 1, 2, 3, 4, 5, 6, 7, 8, 9, 10, 11, 12, 13, 14, 15, 16, 17, 18, 19],\n",
              " [Text(0, 0, '1930.0'),\n",
              "  Text(1, 0, '1934.0'),\n",
              "  Text(2, 0, '1938.0'),\n",
              "  Text(3, 0, '1950.0'),\n",
              "  Text(4, 0, '1954.0'),\n",
              "  Text(5, 0, '1958.0'),\n",
              "  Text(6, 0, '1962.0'),\n",
              "  Text(7, 0, '1966.0'),\n",
              "  Text(8, 0, '1970.0'),\n",
              "  Text(9, 0, '1974.0'),\n",
              "  Text(10, 0, '1978.0'),\n",
              "  Text(11, 0, '1982.0'),\n",
              "  Text(12, 0, '1986.0'),\n",
              "  Text(13, 0, '1990.0'),\n",
              "  Text(14, 0, '1994.0'),\n",
              "  Text(15, 0, '1998.0'),\n",
              "  Text(16, 0, '2002.0'),\n",
              "  Text(17, 0, '2006.0'),\n",
              "  Text(18, 0, '2010.0'),\n",
              "  Text(19, 0, '2014.0')])"
            ]
          },
          "metadata": {},
          "execution_count": 20
        },
        {
          "output_type": "display_data",
          "data": {
            "text/plain": [
              "<Figure size 1200x600 with 1 Axes>"
            ],
            "image/png": "[encoded data removed]"
          },
          "metadata": {}
        }
      ]
    },
    {
      "cell_type": "markdown",
      "source": [
        "## Documentation:\n",
        "This output represents the x-axis ticks and their labels for a plot, a histogram or bar chart, created using matplotlib.pyplot."
      ],
      "metadata": {
        "id": "4nrXQLsOaly5"
      }
    },
    {
      "cell_type": "markdown",
      "source": [
        "# 18.\tVisualize the distribution of half-time goals vs. full-time goals."
      ],
      "metadata": {
        "id": "iFjs56h0_zbj"
      }
    },
    {
      "cell_type": "code",
      "source": [
        "import matplotlib.pyplot as plt\n",
        "import seaborn as sns\n",
        "\n",
        "# Calculate total half-time goals and total full-time goals\n",
        "half_time_goals = df['Half-time Home Goals'].sum() + df['Half-time Away Goals'].sum()\n",
        "full_time_goals = df['Home Team Goals'].sum() + df['Away Team Goals'].sum()\n",
        "\n",
        "# Create a DataFrame for the data\n",
        "data = pd.DataFrame({'Goals Type': ['Half-time Goals', 'Full-time Goals'],\n",
        "                     'Goals': [half_time_goals, full_time_goals]})\n",
        "\n",
        "# Create the bar plot\n",
        "plt.figure(figsize=(8, 6))\n",
        "sns.barplot(x='Goals Type', y='Goals', data=data)\n",
        "plt.title('Distribution of Half-time vs. Full-time Goals')\n",
        "plt.ylabel('Total Goals')\n",
        "plt.show()\n",
        "\n",
        "\n",
        "# Create a histogram for half-time goals\n",
        "plt.figure(figsize=(8, 6))\n",
        "plt.hist(df['Half-time Home Goals'] + df['Half-time Away Goals'], bins=10, alpha=0.7, label='Half-time Goals')\n",
        "\n",
        "# Create a histogram for full-time goals\n",
        "plt.hist(df['Home Team Goals'] + df['Away Team Goals'], bins=10, alpha=0.7, label='Full-time Goals')\n",
        "\n",
        "plt.xlabel('Number of Goals')\n",
        "plt.ylabel('Frequency')\n",
        "plt.title('Distribution of Half-time vs. Full-time Goals')\n",
        "plt.legend()\n",
        "plt.show()"
      ],
      "metadata": {
        "colab": {
          "base_uri": "https://localhost:8080/",
          "height": 1000
        },
        "id": "rZL2GTga_8Qv",
        "outputId": "a4202760-fa81-4a6d-9134-c2055ed86b70"
      },
      "execution_count": null,
      "outputs": [
        {
          "output_type": "display_data",
          "data": {
            "text/plain": [
              "<Figure size 800x600 with 1 Axes>"
            ],
            "image/png": "[encoded data removed]"
          },
          "metadata": {}
        },
        {
          "output_type": "display_data",
          "data": {
            "text/plain": [
              "<Figure size 800x600 with 1 Axes>"
            ],
            "image/png": "[encoded data removed]"
          },
          "metadata": {}
        }
      ]
    },
    {
      "cell_type": "markdown",
      "source": [
        "## Documentation:\n",
        "This code visualizes the distribution of half-time goals versus full-time goals in World Cup matches using both a bar plot and overlapping histograms."
      ],
      "metadata": {
        "id": "5TrXcBoEbdHJ"
      }
    }
  ]
}