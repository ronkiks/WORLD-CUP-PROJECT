{
  "nbformat": 4,
  "nbformat_minor": 0,
  "metadata": {
    "colab": {
      "provenance": [],
      "authorship_tag": "ABX9TyMBSuvd9WlvWsJvt2SKEqFo",
      "include_colab_link": true
    },
    "kernelspec": {
      "name": "python3",
      "display_name": "Python 3"
    },
    "language_info": {
      "name": "python"
    }
  },
  "cells": [
    {
      "cell_type": "markdown",
      "metadata": {
        "id": "view-in-github",
        "colab_type": "text"
      },
      "source": [
        "<a href=\"https://colab.research.google.com/github/ronkiks/WORLD-CUP-PROJECT/blob/main/WorldCupPlayers_Analysis.ipynb\" target=\"_parent\"><img src=\"https://colab.research.google.com/assets/colab-badge.svg\" alt=\"Open In Colab\"/></a>"
      ]
    },
    {
      "cell_type": "code",
      "execution_count": null,
      "metadata": {
        "id": "-XD5IIXv20US"
      },
      "outputs": [],
      "source": [
        "import numpy as np\n",
        "import pandas as pd\n",
        "import matplotlib.pyplot as plt\n",
        "import seaborn as sns"
      ]
    },
    {
      "cell_type": "markdown",
      "source": [
        "## Doumentation:\n",
        "These four libraries work together for data science and machine learning tasks, it enables to handle data, perform calculations, and create visualizations efficiently."
      ],
      "metadata": {
        "id": "WoR0ONl_NFx4"
      }
    },
    {
      "cell_type": "code",
      "source": [
        "df = pd.read_csv('/content/WorldCupPlayers.csv')"
      ],
      "metadata": {
        "id": "yx9kL4Kz3hC6"
      },
      "execution_count": null,
      "outputs": []
    },
    {
      "cell_type": "markdown",
      "source": [
        "## Documentation:\n",
        "It loads data from a CSV file into a Pandas DataFrame (df) for analysis."
      ],
      "metadata": {
        "id": "msmDJB_VONhK"
      }
    },
    {
      "cell_type": "code",
      "source": [
        "df"
      ],
      "metadata": {
        "colab": {
          "base_uri": "https://localhost:8080/",
          "height": 808
        },
        "id": "nlYwkxQt4K4b",
        "outputId": "7c7ad87d-d3f5-42ce-dc23-8f1e0190801c"
      },
      "execution_count": null,
      "outputs": [
        {
          "output_type": "execute_result",
          "data": {
            "text/plain": [
              "       RoundID    MatchID Team Initials               Coach Name Line-up  \\\n",
              "0          201       1096           FRA      CAUDRON Raoul (FRA)       S   \n",
              "1          201       1096           MEX         LUQUE Juan (MEX)       S   \n",
              "2          201       1096           FRA      CAUDRON Raoul (FRA)       S   \n",
              "3          201       1096           MEX         LUQUE Juan (MEX)       S   \n",
              "4          201       1096           FRA      CAUDRON Raoul (FRA)       S   \n",
              "...        ...        ...           ...                      ...     ...   \n",
              "37779   255959  300186501           ARG  SABELLA Alejandro (ARG)       N   \n",
              "37780   255959  300186501           GER       LOEW Joachim (GER)       N   \n",
              "37781   255959  300186501           ARG  SABELLA Alejandro (ARG)       N   \n",
              "37782   255959  300186501           GER       LOEW Joachim (GER)       N   \n",
              "37783   255959  300186501           ARG  SABELLA Alejandro (ARG)       N   \n",
              "\n",
              "       Shirt Number       Player Name Position       Event  \n",
              "0                 0       Alex THEPOT       GK         NaN  \n",
              "1                 0   Oscar BONFIGLIO       GK         NaN  \n",
              "2                 0  Marcel LANGILLER      NaN        G40'  \n",
              "3                 0      Juan CARRENO      NaN        G70'  \n",
              "4                 0   Ernest LIBERATI      NaN         NaN  \n",
              "...             ...               ...      ...         ...  \n",
              "37779            19           ALVAREZ      NaN         NaN  \n",
              "37780             6           KHEDIRA      NaN         NaN  \n",
              "37781            20            AGUERO      NaN  IH46' Y65'  \n",
              "37782            21           MUSTAFI      NaN         NaN  \n",
              "37783            23           BASANTA      NaN         NaN  \n",
              "\n",
              "[37784 rows x 9 columns]"
            ],
            "text/html": [
              "\n",
              "  <div id=\"df-28304a8d-3ca6-4bae-9240-0c9f16a32192\" class=\"colab-df-container\">\n",
              "    <div>\n",
              "<style scoped>\n",
              "    .dataframe tbody tr th:only-of-type {\n",
              "        vertical-align: middle;\n",
              "    }\n",
              "\n",
              "    .dataframe tbody tr th {\n",
              "        vertical-align: top;\n",
              "    }\n",
              "\n",
              "    .dataframe thead th {\n",
              "        text-align: right;\n",
              "    }\n",
              "</style>\n",
              "<table border=\"1\" class=\"dataframe\">\n",
              "  <thead>\n",
              "    <tr style=\"text-align: right;\">\n",
              "      <th></th>\n",
              "      <th>RoundID</th>\n",
              "      <th>MatchID</th>\n",
              "      <th>Team Initials</th>\n",
              "      <th>Coach Name</th>\n",
              "      <th>Line-up</th>\n",
              "      <th>Shirt Number</th>\n",
              "      <th>Player Name</th>\n",
              "      <th>Position</th>\n",
              "      <th>Event</th>\n",
              "    </tr>\n",
              "  </thead>\n",
              "  <tbody>\n",
              "    <tr>\n",
              "      <th>0</th>\n",
              "      <td>201</td>\n",
              "      <td>1096</td>\n",
              "      <td>FRA</td>\n",
              "      <td>CAUDRON Raoul (FRA)</td>\n",
              "      <td>S</td>\n",
              "      <td>0</td>\n",
              "      <td>Alex THEPOT</td>\n",
              "      <td>GK</td>\n",
              "      <td>NaN</td>\n",
              "    </tr>\n",
              "    <tr>\n",
              "      <th>1</th>\n",
              "      <td>201</td>\n",
              "      <td>1096</td>\n",
              "      <td>MEX</td>\n",
              "      <td>LUQUE Juan (MEX)</td>\n",
              "      <td>S</td>\n",
              "      <td>0</td>\n",
              "      <td>Oscar BONFIGLIO</td>\n",
              "      <td>GK</td>\n",
              "      <td>NaN</td>\n",
              "    </tr>\n",
              "    <tr>\n",
              "      <th>2</th>\n",
              "      <td>201</td>\n",
              "      <td>1096</td>\n",
              "      <td>FRA</td>\n",
              "      <td>CAUDRON Raoul (FRA)</td>\n",
              "      <td>S</td>\n",
              "      <td>0</td>\n",
              "      <td>Marcel LANGILLER</td>\n",
              "      <td>NaN</td>\n",
              "      <td>G40'</td>\n",
              "    </tr>\n",
              "    <tr>\n",
              "      <th>3</th>\n",
              "      <td>201</td>\n",
              "      <td>1096</td>\n",
              "      <td>MEX</td>\n",
              "      <td>LUQUE Juan (MEX)</td>\n",
              "      <td>S</td>\n",
              "      <td>0</td>\n",
              "      <td>Juan CARRENO</td>\n",
              "      <td>NaN</td>\n",
              "      <td>G70'</td>\n",
              "    </tr>\n",
              "    <tr>\n",
              "      <th>4</th>\n",
              "      <td>201</td>\n",
              "      <td>1096</td>\n",
              "      <td>FRA</td>\n",
              "      <td>CAUDRON Raoul (FRA)</td>\n",
              "      <td>S</td>\n",
              "      <td>0</td>\n",
              "      <td>Ernest LIBERATI</td>\n",
              "      <td>NaN</td>\n",
              "      <td>NaN</td>\n",
              "    </tr>\n",
              "    <tr>\n",
              "      <th>...</th>\n",
              "      <td>...</td>\n",
              "      <td>...</td>\n",
              "      <td>...</td>\n",
              "      <td>...</td>\n",
              "      <td>...</td>\n",
              "      <td>...</td>\n",
              "      <td>...</td>\n",
              "      <td>...</td>\n",
              "      <td>...</td>\n",
              "    </tr>\n",
              "    <tr>\n",
              "      <th>37779</th>\n",
              "      <td>255959</td>\n",
              "      <td>300186501</td>\n",
              "      <td>ARG</td>\n",
              "      <td>SABELLA Alejandro (ARG)</td>\n",
              "      <td>N</td>\n",
              "      <td>19</td>\n",
              "      <td>ALVAREZ</td>\n",
              "      <td>NaN</td>\n",
              "      <td>NaN</td>\n",
              "    </tr>\n",
              "    <tr>\n",
              "      <th>37780</th>\n",
              "      <td>255959</td>\n",
              "      <td>300186501</td>\n",
              "      <td>GER</td>\n",
              "      <td>LOEW Joachim (GER)</td>\n",
              "      <td>N</td>\n",
              "      <td>6</td>\n",
              "      <td>KHEDIRA</td>\n",
              "      <td>NaN</td>\n",
              "      <td>NaN</td>\n",
              "    </tr>\n",
              "    <tr>\n",
              "      <th>37781</th>\n",
              "      <td>255959</td>\n",
              "      <td>300186501</td>\n",
              "      <td>ARG</td>\n",
              "      <td>SABELLA Alejandro (ARG)</td>\n",
              "      <td>N</td>\n",
              "      <td>20</td>\n",
              "      <td>AGUERO</td>\n",
              "      <td>NaN</td>\n",
              "      <td>IH46' Y65'</td>\n",
              "    </tr>\n",
              "    <tr>\n",
              "      <th>37782</th>\n",
              "      <td>255959</td>\n",
              "      <td>300186501</td>\n",
              "      <td>GER</td>\n",
              "      <td>LOEW Joachim (GER)</td>\n",
              "      <td>N</td>\n",
              "      <td>21</td>\n",
              "      <td>MUSTAFI</td>\n",
              "      <td>NaN</td>\n",
              "      <td>NaN</td>\n",
              "    </tr>\n",
              "    <tr>\n",
              "      <th>37783</th>\n",
              "      <td>255959</td>\n",
              "      <td>300186501</td>\n",
              "      <td>ARG</td>\n",
              "      <td>SABELLA Alejandro (ARG)</td>\n",
              "      <td>N</td>\n",
              "      <td>23</td>\n",
              "      <td>BASANTA</td>\n",
              "      <td>NaN</td>\n",
              "      <td>NaN</td>\n",
              "    </tr>\n",
              "  </tbody>\n",
              "</table>\n",
              "<p>37784 rows × 9 columns</p>\n",
              "</div>\n",
              "    <div class=\"colab-df-buttons\">\n",
              "\n",
              "  <div class=\"colab-df-container\">\n",
              "    <button class=\"colab-df-convert\" onclick=\"convertToInteractive('df-28304a8d-3ca6-4bae-9240-0c9f16a32192')\"\n",
              "            title=\"Convert this dataframe to an interactive table.\"\n",
              "            style=\"display:none;\">\n",
              "\n",
              "  <svg xmlns=\"http://www.w3.org/2000/svg\" height=\"24px\" viewBox=\"0 -960 960 960\">\n",
              "    <path d=\"M120-120v-720h720v720H120Zm60-500h600v-160H180v160Zm220 220h160v-160H400v160Zm0 220h160v-160H400v160ZM180-400h160v-160H180v160Zm440 0h160v-160H620v160ZM180-180h160v-160H180v160Zm440 0h160v-160H620v160Z\"/>\n",
              "  </svg>\n",
              "    </button>\n",
              "\n",
              "  <style>\n",
              "    .colab-df-container {\n",
              "      display:flex;\n",
              "      gap: 12px;\n",
              "    }\n",
              "\n",
              "    .colab-df-convert {\n",
              "      background-color: #E8F0FE;\n",
              "      border: none;\n",
              "      border-radius: 50%;\n",
              "      cursor: pointer;\n",
              "      display: none;\n",
              "      fill: #1967D2;\n",
              "      height: 32px;\n",
              "      padding: 0 0 0 0;\n",
              "      width: 32px;\n",
              "    }\n",
              "\n",
              "    .colab-df-convert:hover {\n",
              "      background-color: #E2EBFA;\n",
              "      box-shadow: 0px 1px 2px rgba(60, 64, 67, 0.3), 0px 1px 3px 1px rgba(60, 64, 67, 0.15);\n",
              "      fill: #174EA6;\n",
              "    }\n",
              "\n",
              "    .colab-df-buttons div {\n",
              "      margin-bottom: 4px;\n",
              "    }\n",
              "\n",
              "    [theme=dark] .colab-df-convert {\n",
              "      background-color: #3B4455;\n",
              "      fill: #D2E3FC;\n",
              "    }\n",
              "\n",
              "    [theme=dark] .colab-df-convert:hover {\n",
              "      background-color: #434B5C;\n",
              "      box-shadow: 0px 1px 3px 1px rgba(0, 0, 0, 0.15);\n",
              "      filter: drop-shadow(0px 1px 2px rgba(0, 0, 0, 0.3));\n",
              "      fill: #FFFFFF;\n",
              "    }\n",
              "  </style>\n",
              "\n",
              "    <script>\n",
              "      const buttonEl =\n",
              "        document.querySelector('#df-28304a8d-3ca6-4bae-9240-0c9f16a32192 button.colab-df-convert');\n",
              "      buttonEl.style.display =\n",
              "        google.colab.kernel.accessAllowed ? 'block' : 'none';\n",
              "\n",
              "      async function convertToInteractive(key) {\n",
              "        const element = document.querySelector('#df-28304a8d-3ca6-4bae-9240-0c9f16a32192');\n",
              "        const dataTable =\n",
              "          await google.colab.kernel.invokeFunction('convertToInteractive',\n",
              "                                                    [key], {});\n",
              "        if (!dataTable) return;\n",
              "\n",
              "        const docLinkHtml = 'Like what you see? Visit the ' +\n",
              "          '<a target=\"_blank\" href=https://colab.research.google.com/notebooks/data_table.ipynb>data table notebook</a>'\n",
              "          + ' to learn more about interactive tables.';\n",
              "        element.innerHTML = '';\n",
              "        dataTable['output_type'] = 'display_data';\n",
              "        await google.colab.output.renderOutput(dataTable, element);\n",
              "        const docLink = document.createElement('div');\n",
              "        docLink.innerHTML = docLinkHtml;\n",
              "        element.appendChild(docLink);\n",
              "      }\n",
              "    </script>\n",
              "  </div>\n",
              "\n",
              "\n",
              "<div id=\"df-057e104b-942a-40e6-84fe-6cae53ad4578\">\n",
              "  <button class=\"colab-df-quickchart\" onclick=\"quickchart('df-057e104b-942a-40e6-84fe-6cae53ad4578')\"\n",
              "            title=\"Suggest charts\"\n",
              "            style=\"display:none;\">\n",
              "\n",
              "<svg xmlns=\"http://www.w3.org/2000/svg\" height=\"24px\"viewBox=\"0 0 24 24\"\n",
              "     width=\"24px\">\n",
              "    <g>\n",
              "        <path d=\"M19 3H5c-1.1 0-2 .9-2 2v14c0 1.1.9 2 2 2h14c1.1 0 2-.9 2-2V5c0-1.1-.9-2-2-2zM9 17H7v-7h2v7zm4 0h-2V7h2v10zm4 0h-2v-4h2v4z\"/>\n",
              "    </g>\n",
              "</svg>\n",
              "  </button>\n",
              "\n",
              "<style>\n",
              "  .colab-df-quickchart {\n",
              "      --bg-color: #E8F0FE;\n",
              "      --fill-color: #1967D2;\n",
              "      --hover-bg-color: #E2EBFA;\n",
              "      --hover-fill-color: #174EA6;\n",
              "      --disabled-fill-color: #AAA;\n",
              "      --disabled-bg-color: #DDD;\n",
              "  }\n",
              "\n",
              "  [theme=dark] .colab-df-quickchart {\n",
              "      --bg-color: #3B4455;\n",
              "      --fill-color: #D2E3FC;\n",
              "      --hover-bg-color: #434B5C;\n",
              "      --hover-fill-color: #FFFFFF;\n",
              "      --disabled-bg-color: #3B4455;\n",
              "      --disabled-fill-color: #666;\n",
              "  }\n",
              "\n",
              "  .colab-df-quickchart {\n",
              "    background-color: var(--bg-color);\n",
              "    border: none;\n",
              "    border-radius: 50%;\n",
              "    cursor: pointer;\n",
              "    display: none;\n",
              "    fill: var(--fill-color);\n",
              "    height: 32px;\n",
              "    padding: 0;\n",
              "    width: 32px;\n",
              "  }\n",
              "\n",
              "  .colab-df-quickchart:hover {\n",
              "    background-color: var(--hover-bg-color);\n",
              "    box-shadow: 0 1px 2px rgba(60, 64, 67, 0.3), 0 1px 3px 1px rgba(60, 64, 67, 0.15);\n",
              "    fill: var(--button-hover-fill-color);\n",
              "  }\n",
              "\n",
              "  .colab-df-quickchart-complete:disabled,\n",
              "  .colab-df-quickchart-complete:disabled:hover {\n",
              "    background-color: var(--disabled-bg-color);\n",
              "    fill: var(--disabled-fill-color);\n",
              "    box-shadow: none;\n",
              "  }\n",
              "\n",
              "  .colab-df-spinner {\n",
              "    border: 2px solid var(--fill-color);\n",
              "    border-color: transparent;\n",
              "    border-bottom-color: var(--fill-color);\n",
              "    animation:\n",
              "      spin 1s steps(1) infinite;\n",
              "  }\n",
              "\n",
              "  @keyframes spin {\n",
              "    0% {\n",
              "      border-color: transparent;\n",
              "      border-bottom-color: var(--fill-color);\n",
              "      border-left-color: var(--fill-color);\n",
              "    }\n",
              "    20% {\n",
              "      border-color: transparent;\n",
              "      border-left-color: var(--fill-color);\n",
              "      border-top-color: var(--fill-color);\n",
              "    }\n",
              "    30% {\n",
              "      border-color: transparent;\n",
              "      border-left-color: var(--fill-color);\n",
              "      border-top-color: var(--fill-color);\n",
              "      border-right-color: var(--fill-color);\n",
              "    }\n",
              "    40% {\n",
              "      border-color: transparent;\n",
              "      border-right-color: var(--fill-color);\n",
              "      border-top-color: var(--fill-color);\n",
              "    }\n",
              "    60% {\n",
              "      border-color: transparent;\n",
              "      border-right-color: var(--fill-color);\n",
              "    }\n",
              "    80% {\n",
              "      border-color: transparent;\n",
              "      border-right-color: var(--fill-color);\n",
              "      border-bottom-color: var(--fill-color);\n",
              "    }\n",
              "    90% {\n",
              "      border-color: transparent;\n",
              "      border-bottom-color: var(--fill-color);\n",
              "    }\n",
              "  }\n",
              "</style>\n",
              "\n",
              "  <script>\n",
              "    async function quickchart(key) {\n",
              "      const quickchartButtonEl =\n",
              "        document.querySelector('#' + key + ' button');\n",
              "      quickchartButtonEl.disabled = true;  // To prevent multiple clicks.\n",
              "      quickchartButtonEl.classList.add('colab-df-spinner');\n",
              "      try {\n",
              "        const charts = await google.colab.kernel.invokeFunction(\n",
              "            'suggestCharts', [key], {});\n",
              "      } catch (error) {\n",
              "        console.error('Error during call to suggestCharts:', error);\n",
              "      }\n",
              "      quickchartButtonEl.classList.remove('colab-df-spinner');\n",
              "      quickchartButtonEl.classList.add('colab-df-quickchart-complete');\n",
              "    }\n",
              "    (() => {\n",
              "      let quickchartButtonEl =\n",
              "        document.querySelector('#df-057e104b-942a-40e6-84fe-6cae53ad4578 button');\n",
              "      quickchartButtonEl.style.display =\n",
              "        google.colab.kernel.accessAllowed ? 'block' : 'none';\n",
              "    })();\n",
              "  </script>\n",
              "</div>\n",
              "\n",
              "  <div id=\"id_9e152356-671f-4ae0-b65b-3a38fb0adf34\">\n",
              "    <style>\n",
              "      .colab-df-generate {\n",
              "        background-color: #E8F0FE;\n",
              "        border: none;\n",
              "        border-radius: 50%;\n",
              "        cursor: pointer;\n",
              "        display: none;\n",
              "        fill: #1967D2;\n",
              "        height: 32px;\n",
              "        padding: 0 0 0 0;\n",
              "        width: 32px;\n",
              "      }\n",
              "\n",
              "      .colab-df-generate:hover {\n",
              "        background-color: #E2EBFA;\n",
              "        box-shadow: 0px 1px 2px rgba(60, 64, 67, 0.3), 0px 1px 3px 1px rgba(60, 64, 67, 0.15);\n",
              "        fill: #174EA6;\n",
              "      }\n",
              "\n",
              "      [theme=dark] .colab-df-generate {\n",
              "        background-color: #3B4455;\n",
              "        fill: #D2E3FC;\n",
              "      }\n",
              "\n",
              "      [theme=dark] .colab-df-generate:hover {\n",
              "        background-color: #434B5C;\n",
              "        box-shadow: 0px 1px 3px 1px rgba(0, 0, 0, 0.15);\n",
              "        filter: drop-shadow(0px 1px 2px rgba(0, 0, 0, 0.3));\n",
              "        fill: #FFFFFF;\n",
              "      }\n",
              "    </style>\n",
              "    <button class=\"colab-df-generate\" onclick=\"generateWithVariable('df')\"\n",
              "            title=\"Generate code using this dataframe.\"\n",
              "            style=\"display:none;\">\n",
              "\n",
              "  <svg xmlns=\"http://www.w3.org/2000/svg\" height=\"24px\"viewBox=\"0 0 24 24\"\n",
              "       width=\"24px\">\n",
              "    <path d=\"M7,19H8.4L18.45,9,17,7.55,7,17.6ZM5,21V16.75L18.45,3.32a2,2,0,0,1,2.83,0l1.4,1.43a1.91,1.91,0,0,1,.58,1.4,1.91,1.91,0,0,1-.58,1.4L9.25,21ZM18.45,9,17,7.55Zm-12,3A5.31,5.31,0,0,0,4.9,8.1,5.31,5.31,0,0,0,1,6.5,5.31,5.31,0,0,0,4.9,4.9,5.31,5.31,0,0,0,6.5,1,5.31,5.31,0,0,0,8.1,4.9,5.31,5.31,0,0,0,12,6.5,5.46,5.46,0,0,0,6.5,12Z\"/>\n",
              "  </svg>\n",
              "    </button>\n",
              "    <script>\n",
              "      (() => {\n",
              "      const buttonEl =\n",
              "        document.querySelector('#id_9e152356-671f-4ae0-b65b-3a38fb0adf34 button.colab-df-generate');\n",
              "      buttonEl.style.display =\n",
              "        google.colab.kernel.accessAllowed ? 'block' : 'none';\n",
              "\n",
              "      buttonEl.onclick = () => {\n",
              "        google.colab.notebook.generateWithVariable('df');\n",
              "      }\n",
              "      })();\n",
              "    </script>\n",
              "  </div>\n",
              "\n",
              "    </div>\n",
              "  </div>\n"
            ],
            "application/vnd.google.colaboratory.intrinsic+json": {
              "type": "dataframe",
              "variable_name": "df",
              "summary": "{\n  \"name\": \"df\",\n  \"rows\": 37784,\n  \"fields\": [\n    {\n      \"column\": \"RoundID\",\n      \"properties\": {\n        \"dtype\": \"number\",\n        \"std\": 27701436,\n        \"min\": 201,\n        \"max\": 97410600,\n        \"num_unique_values\": 101,\n        \"samples\": [\n          97410200,\n          714,\n          338\n        ],\n        \"semantic_type\": \"\",\n        \"description\": \"\"\n      }\n    },\n    {\n      \"column\": \"MatchID\",\n      \"properties\": {\n        \"dtype\": \"number\",\n        \"std\": 112391584,\n        \"min\": 25,\n        \"max\": 300186515,\n        \"num_unique_values\": 836,\n        \"samples\": [\n          43950031,\n          300186460,\n          2215\n        ],\n        \"semantic_type\": \"\",\n        \"description\": \"\"\n      }\n    },\n    {\n      \"column\": \"Team Initials\",\n      \"properties\": {\n        \"dtype\": \"category\",\n        \"num_unique_values\": 82,\n        \"samples\": [\n          \"TUR\",\n          \"FRA\",\n          \"TCH\"\n        ],\n        \"semantic_type\": \"\",\n        \"description\": \"\"\n      }\n    },\n    {\n      \"column\": \"Coach Name\",\n      \"properties\": {\n        \"dtype\": \"category\",\n        \"num_unique_values\": 335,\n        \"samples\": [\n          \"GOULD David (USA)\",\n          \"MARKO Jozef (TCH)\",\n          \"KOLSKY Karel (TCH)\"\n        ],\n        \"semantic_type\": \"\",\n        \"description\": \"\"\n      }\n    },\n    {\n      \"column\": \"Line-up\",\n      \"properties\": {\n        \"dtype\": \"category\",\n        \"num_unique_values\": 2,\n        \"samples\": [\n          \"N\",\n          \"S\"\n        ],\n        \"semantic_type\": \"\",\n        \"description\": \"\"\n      }\n    },\n    {\n      \"column\": \"Shirt Number\",\n      \"properties\": {\n        \"dtype\": \"number\",\n        \"std\": 6,\n        \"min\": 0,\n        \"max\": 23,\n        \"num_unique_values\": 24,\n        \"samples\": [\n          9,\n          6\n        ],\n        \"semantic_type\": \"\",\n        \"description\": \"\"\n      }\n    },\n    {\n      \"column\": \"Player Name\",\n      \"properties\": {\n        \"dtype\": \"category\",\n        \"num_unique_values\": 7663,\n        \"samples\": [\n          \"Jose ALEXANKO\",\n          \"Rolando GARCIA\"\n        ],\n        \"semantic_type\": \"\",\n        \"description\": \"\"\n      }\n    },\n    {\n      \"column\": \"Position\",\n      \"properties\": {\n        \"dtype\": \"category\",\n        \"num_unique_values\": 3,\n        \"samples\": [\n          \"GK\",\n          \"C\"\n        ],\n        \"semantic_type\": \"\",\n        \"description\": \"\"\n      }\n    },\n    {\n      \"column\": \"Event\",\n      \"properties\": {\n        \"dtype\": \"category\",\n        \"num_unique_values\": 1893,\n        \"samples\": [\n          \"O95'\",\n          \"I90'\"\n        ],\n        \"semantic_type\": \"\",\n        \"description\": \"\"\n      }\n    }\n  ]\n}"
            }
          },
          "metadata": {},
          "execution_count": 3
        }
      ]
    },
    {
      "cell_type": "markdown",
      "source": [
        "Documentation:\n",
        "df is a fundamental object that holds code to load data and allows to perform various data analysis and manipulation tasks."
      ],
      "metadata": {
        "id": "yu61Nbb2P3mg"
      }
    },
    {
      "cell_type": "markdown",
      "source": [
        "# 2.\tHow many unique players are recorded in the dataset?"
      ],
      "metadata": {
        "id": "zvAeaQ8_5jXY"
      }
    },
    {
      "cell_type": "code",
      "source": [
        "num_unique_players = df['Player Name'].nunique()\n",
        "print(f\"There are {num_unique_players} unique players recorded in the dataset.\")"
      ],
      "metadata": {
        "colab": {
          "base_uri": "https://localhost:8080/"
        },
        "id": "C6yEXZ815Wx9",
        "outputId": "5949c535-527b-4eb8-d803-71226b424852"
      },
      "execution_count": null,
      "outputs": [
        {
          "output_type": "stream",
          "name": "stdout",
          "text": [
            "There are 7663 unique players recorded in the dataset.\n"
          ]
        }
      ]
    },
    {
      "cell_type": "markdown",
      "source": [
        "## Documentation:\n",
        "The dataset contains information about 7663 distinct players who have participated in World Cup matches."
      ],
      "metadata": {
        "id": "YUQJp1SGRBbZ"
      }
    },
    {
      "cell_type": "markdown",
      "source": [
        "# 3.\tWhat are the column names in the dataset?"
      ],
      "metadata": {
        "id": "V8lnpqGV5vhz"
      }
    },
    {
      "cell_type": "code",
      "source": [
        "column_names = df.columns\n",
        "print(column_names)"
      ],
      "metadata": {
        "colab": {
          "base_uri": "https://localhost:8080/"
        },
        "id": "_zmV7_Of58S0",
        "outputId": "a384d91f-ab95-4301-8c86-ef3bafa735fc"
      },
      "execution_count": null,
      "outputs": [
        {
          "output_type": "stream",
          "name": "stdout",
          "text": [
            "Index(['RoundID', 'MatchID', 'Team Initials', 'Coach Name', 'Line-up',\n",
            "       'Shirt Number', 'Player Name', 'Position', 'Event'],\n",
            "      dtype='object')\n"
          ]
        }
      ]
    },
    {
      "cell_type": "markdown",
      "source": [
        "## Documentation:\n",
        "The output above shows the structure of DataFrame by listing all its column names and their data type."
      ],
      "metadata": {
        "id": "L7Hv8r2rRqRw"
      }
    },
    {
      "cell_type": "markdown",
      "source": [
        "# 4.\tAre there any missing values in the dataset? If so, which columns have them?"
      ],
      "metadata": {
        "id": "Mlnb7SnW6J4q"
      }
    },
    {
      "cell_type": "code",
      "source": [
        "missing_values = df.isnull().sum()\n",
        "print(missing_values)"
      ],
      "metadata": {
        "colab": {
          "base_uri": "https://localhost:8080/"
        },
        "id": "n4Qa74J86O5e",
        "outputId": "cc0a1643-4e32-45c7-e74b-1c08ce620064"
      },
      "execution_count": null,
      "outputs": [
        {
          "output_type": "stream",
          "name": "stdout",
          "text": [
            "RoundID              0\n",
            "MatchID              0\n",
            "Team Initials        0\n",
            "Coach Name           0\n",
            "Line-up              0\n",
            "Shirt Number         0\n",
            "Player Name          0\n",
            "Position         33641\n",
            "Event            28715\n",
            "dtype: int64\n"
          ]
        }
      ]
    },
    {
      "cell_type": "markdown",
      "source": [
        "## Documentation:\n",
        "\n",
        "The above aims to identify and quantify missing values (NaN) within the DataFrame df."
      ],
      "metadata": {
        "id": "pbNm8ZVBSFVA"
      }
    },
    {
      "cell_type": "markdown",
      "source": [
        "# 5.\tHow many unique team initials exist in the dataset?"
      ],
      "metadata": {
        "id": "CEfpnIGj6m7R"
      }
    },
    {
      "cell_type": "code",
      "source": [
        "num_unique_team_initials = df['Team Initials'].nunique()\n",
        "print(f\"There are {num_unique_team_initials} unique team initials in the dataset.\")"
      ],
      "metadata": {
        "colab": {
          "base_uri": "https://localhost:8080/"
        },
        "id": "itIZA59M6whi",
        "outputId": "94f21710-8bd4-4801-c8c0-415b08344a50"
      },
      "execution_count": null,
      "outputs": [
        {
          "output_type": "stream",
          "name": "stdout",
          "text": [
            "There are 82 unique team initials in the dataset.\n"
          ]
        }
      ]
    },
    {
      "cell_type": "markdown",
      "source": [
        "## Documentation:\n",
        "This above statement signifies that there are 82 distinct team initials present in the 'WorldCupPlayers.csv' dataset. These initials represent different national teams that participated in World Cup matches."
      ],
      "metadata": {
        "id": "MDyuQAG_Sxtz"
      }
    },
    {
      "cell_type": "markdown",
      "source": [
        "# 6.\tStandardize the player names by converting them to uppercase/lowercase."
      ],
      "metadata": {
        "id": "0iMYwQqz7APZ"
      }
    },
    {
      "cell_type": "code",
      "source": [
        "# To convert to uppercase:\n",
        "df['Player Name'] = df['Player Name'].str.upper()\n",
        "\n",
        "# To convert to lowercase:\n",
        "# df['Player Name'] = df['Player Name'].str.lower()"
      ],
      "metadata": {
        "id": "KwHidIAY7Dzw"
      },
      "execution_count": null,
      "outputs": []
    },
    {
      "cell_type": "markdown",
      "source": [
        "## Documentation:\n",
        "This above code ensures uniform player names for reliable data analysis"
      ],
      "metadata": {
        "id": "a3JTmOkVXGS5"
      }
    },
    {
      "cell_type": "markdown",
      "source": [
        "# 7.\tHow many times has each team appeared in the dataset?"
      ],
      "metadata": {
        "id": "4lr0ACEn7ghH"
      }
    },
    {
      "source": [
        "team_counts = df['Team Initials'].value_counts()\n",
        "print(team_counts)"
      ],
      "cell_type": "code",
      "metadata": {
        "colab": {
          "base_uri": "https://localhost:8080/"
        },
        "id": "1VDA97kQ7x6h",
        "outputId": "9d007705-8944-4a94-942d-14e3d4c9990e"
      },
      "execution_count": null,
      "outputs": [
        {
          "output_type": "stream",
          "name": "stdout",
          "text": [
            "Team Initials\n",
            "BRA    2403\n",
            "ITA    1843\n",
            "ARG    1807\n",
            "ENG    1378\n",
            "FRG    1364\n",
            "       ... \n",
            "KUW      66\n",
            "CAN      66\n",
            "UAE      66\n",
            "CUB      45\n",
            "INH      18\n",
            "Name: count, Length: 82, dtype: int64\n"
          ]
        }
      ]
    },
    {
      "cell_type": "markdown",
      "source": [
        "## Documentation:\n",
        "\n",
        "This output shows the frequency of each unique 'Team Initials' value within the dataset."
      ],
      "metadata": {
        "id": "CRpbDIebXzpe"
      }
    },
    {
      "cell_type": "markdown",
      "source": [
        "# 8. What are the most common player positions in World Cup history?\n"
      ],
      "metadata": {
        "id": "uUg_Msjb739Q"
      }
    },
    {
      "source": [
        "position_counts = df['Position'].value_counts()\n",
        "print(position_counts)\n",
        "\n",
        "# To get the top N most common positions (e.g., top 5):\n",
        "top_n_positions = position_counts.head(5)  # Change 5 to the desired number\n",
        "print(\"\\nTop\", len(top_n_positions), \"most common positions:\")\n",
        "print(top_n_positions)"
      ],
      "cell_type": "code",
      "metadata": {
        "colab": {
          "base_uri": "https://localhost:8080/"
        },
        "id": "V_neHsfq8Vkd",
        "outputId": "7fdedf4c-e7ea-4e5c-ef10-aad9bbc7f5a8"
      },
      "execution_count": null,
      "outputs": [
        {
          "output_type": "stream",
          "name": "stdout",
          "text": [
            "Position\n",
            "GK     2441\n",
            "C      1510\n",
            "GKC     192\n",
            "Name: count, dtype: int64\n",
            "\n",
            "Top 3 most common positions:\n",
            "Position\n",
            "GK     2441\n",
            "C      1510\n",
            "GKC     192\n",
            "Name: count, dtype: int64\n"
          ]
        }
      ]
    },
    {
      "cell_type": "markdown",
      "source": [
        "## Documentation:\n",
        "This above code snippet aims to identify and display the most frequent player positions within the dataset."
      ],
      "metadata": {
        "id": "bSkgKcckljjH"
      }
    },
    {
      "cell_type": "markdown",
      "source": [
        "# 9.\tWho are the most frequently appearing coaches?"
      ],
      "metadata": {
        "id": "QC4F3by68Zgn"
      }
    },
    {
      "source": [
        "coach_counts = df['Coach Name'].value_counts()\n",
        "print(coach_counts)\n",
        "\n",
        "# To get the top N most frequent coaches (e.g., top 5):\n",
        "top_n_coaches = coach_counts.head(5)  # Change 5 to the desired number\n",
        "print(\"\\nTop\", len(top_n_coaches), \"most frequent coaches:\")\n",
        "print(top_n_coaches)"
      ],
      "cell_type": "code",
      "metadata": {
        "colab": {
          "base_uri": "https://localhost:8080/"
        },
        "id": "Hd_AfPA78je-",
        "outputId": "1a539e64-af22-4b97-bd0b-89573193984b"
      },
      "execution_count": null,
      "outputs": [
        {
          "output_type": "stream",
          "name": "stdout",
          "text": [
            "Coach Name\n",
            "SCOLARI Luiz Felipe (BRA)         575\n",
            "SCHOEN Helmut (FRG)               550\n",
            "PARREIRA Carlos Alberto (BRA)     514\n",
            "MILUTINOVIC Bora (YUG)            443\n",
            "ZAGALLO Mario (BRA)               440\n",
            "                                 ... \n",
            "PASCUCCI Felipe (ITA)              18\n",
            "VAN MASTENBROEK Johannes (NED)     18\n",
            "McREA James (SCO)                  17\n",
            "LUIZ VINHAES (BRA)                 17\n",
            "RADULESCU Constantin (ROU)         15\n",
            "Name: count, Length: 335, dtype: int64\n",
            "\n",
            "Top 5 most frequent coaches:\n",
            "Coach Name\n",
            "SCOLARI Luiz Felipe (BRA)        575\n",
            "SCHOEN Helmut (FRG)              550\n",
            "PARREIRA Carlos Alberto (BRA)    514\n",
            "MILUTINOVIC Bora (YUG)           443\n",
            "ZAGALLO Mario (BRA)              440\n",
            "Name: count, dtype: int64\n"
          ]
        }
      ]
    },
    {
      "cell_type": "markdown",
      "source": [
        "## Documentation:\n",
        "This above line of code calculates the frequency of each unique coach name in the 'Coach Name' column of the DataFrame df and stores the result in a Series called coach_counts."
      ],
      "metadata": {
        "id": "O0tBRSiQl-yh"
      }
    },
    {
      "cell_type": "markdown",
      "source": [
        "# 10.\tFind all players who played as goalkeepers (GK)."
      ],
      "metadata": {
        "id": "OWURsIMr8mBz"
      }
    },
    {
      "source": [
        "goalkeepers = df[df['Position'] == 'GK']\n",
        "print(goalkeepers)"
      ],
      "cell_type": "code",
      "metadata": {
        "colab": {
          "base_uri": "https://localhost:8080/"
        },
        "id": "ez-826_x81Cf",
        "outputId": "f8666cd0-4778-4c27-ad59-7bb841338f16"
      },
      "execution_count": null,
      "outputs": [
        {
          "output_type": "stream",
          "name": "stdout",
          "text": [
            "       RoundID    MatchID Team Initials               Coach Name Line-up  \\\n",
            "0          201       1096           FRA      CAUDRON Raoul (FRA)       S   \n",
            "1          201       1096           MEX         LUQUE Juan (MEX)       S   \n",
            "33         201       1090           USA         MILLAR Bob (USA)       S   \n",
            "34         201       1090           BEL    GOETINCK Hector (BEL)       S   \n",
            "65         201       1093           YUG    SIMONOVIC Bosko (YUG)       S   \n",
            "...        ...        ...           ...                      ...     ...   \n",
            "37739   255959  300186501           ARG  SABELLA Alejandro (ARG)       S   \n",
            "37760   255959  300186501           GER       LOEW Joachim (GER)       N   \n",
            "37761   255959  300186501           ARG  SABELLA Alejandro (ARG)       N   \n",
            "37762   255959  300186501           GER       LOEW Joachim (GER)       N   \n",
            "37763   255959  300186501           ARG  SABELLA Alejandro (ARG)       N   \n",
            "\n",
            "       Shirt Number      Player Name Position Event  \n",
            "0                 0      ALEX THEPOT       GK   NaN  \n",
            "1                 0  OSCAR BONFIGLIO       GK   NaN  \n",
            "33                0    JIMMY DOUGLAS       GK   NaN  \n",
            "34                0    ARNOLD BADJOU       GK   NaN  \n",
            "65                0   MILOVAN JAKSIC       GK   NaN  \n",
            "...             ...              ...      ...   ...  \n",
            "37739             1           ROMERO       GK   NaN  \n",
            "37760            12           ZIELER       GK   NaN  \n",
            "37761            12            ORION       GK   NaN  \n",
            "37762            22     WEIDENFELLER       GK   NaN  \n",
            "37763            21          ANDUJAR       GK   NaN  \n",
            "\n",
            "[2441 rows x 9 columns]\n"
          ]
        }
      ]
    },
    {
      "cell_type": "markdown",
      "source": [
        "## Documentation:\n",
        "This above DataFrame provides a structured way to store and analyze data related to World Cup matches, including player details, team information, and match events. Each row in the DataFrame represents a player's participation in a specific match."
      ],
      "metadata": {
        "id": "S5j4ZxY4mgRF"
      }
    },
    {
      "cell_type": "markdown",
      "source": [
        "# 11.\tList all matches where a player scored a goal (events marked as ‘G’ in the Event column)."
      ],
      "metadata": {
        "id": "h0xXj6jS83VV"
      }
    },
    {
      "source": [
        "goals = df[df['Event'] == 'G']\n",
        "print(goals)"
      ],
      "cell_type": "code",
      "metadata": {
        "colab": {
          "base_uri": "https://localhost:8080/"
        },
        "id": "1nN1bE2I9MD4",
        "outputId": "8d1a8963-d1de-468b-a83c-506e1a9aa2bd"
      },
      "execution_count": null,
      "outputs": [
        {
          "output_type": "stream",
          "name": "stdout",
          "text": [
            "Empty DataFrame\n",
            "Columns: [RoundID, MatchID, Team Initials, Coach Name, Line-up, Shirt Number, Player Name, Position, Event]\n",
            "Index: []\n"
          ]
        }
      ]
    },
    {
      "cell_type": "markdown",
      "source": [
        "## Documentation:\n",
        "This represents an Empty DataFrame with columns for 'Name', 'Age', and 'City' but no rows to store data."
      ],
      "metadata": {
        "id": "jtGNXCMCnpG6"
      }
    },
    {
      "cell_type": "markdown",
      "source": [
        "# 12.\tRetrieve all players who played for Brazil in any World Cup."
      ],
      "metadata": {
        "id": "8OqHr2xs9Prw"
      }
    },
    {
      "source": [
        "brazil_players = df[df['Team Initials'] == 'BRA']['Player Name'].unique()\n",
        "print(brazil_players)"
      ],
      "cell_type": "code",
      "metadata": {
        "colab": {
          "base_uri": "https://localhost:8080/"
        },
        "id": "cdILFzhQ9dwM",
        "outputId": "8da3968d-7318-48b1-eb97-064500c3c92d"
      },
      "execution_count": null,
      "outputs": [
        {
          "output_type": "stream",
          "name": "stdout",
          "text": [
            "['JOEL' 'TEOPHILO' 'POLY' 'FAUSTO' 'PREGUINHO' 'NILO' 'BRILHANTE' 'ARAKEN'\n",
            " 'HERMOGENES' 'ITALIA' 'FERNANDO GIUDICELLI' 'CARVALHO LEITE' 'BENEDICTO'\n",
            " 'OSCARINO' 'BENVENUTTO' 'DOCA' 'PAMPLONA' 'FORTES' 'MANOELZINHO'\n",
            " 'IVAN MARIZ' 'MODERATO' 'VELLOSO' 'ZE LUIS' 'RUSSINHO' 'PEDROSA' 'TINOCO'\n",
            " 'PATESKO' 'SYLVIO HOFFMANN' 'MARTIM' 'ARMANDINHO' 'LEONIDAS' 'LUISINHO'\n",
            " 'LUIZ LUZ' 'CANALLI' 'WALDEMAR DE BRITTO' 'ATTILA' 'OCTACILIO' 'ARIEL'\n",
            " 'GERMANO' 'WALDYR' 'BATATAIS' 'HERCULES' 'LOPES' 'PERACIO'\n",
            " 'DOMINGOS DA GUIA' 'MACHADO' 'AFONSINHO' 'ZEZE PROCOPIO' 'ROMEU'\n",
            " 'WALTER GOULART' 'BRANDAO' 'JAU' 'ARGEMIRO' 'TIM' 'ROBERTO' 'NIGINHO'\n",
            " 'NARIZ' 'BRITTO' 'BARBOSA' 'ADEMIR' 'AUGUSTO' 'FRIACA' 'JUVENAL'\n",
            " 'ELY DO AMPARO' 'MANECA' 'BALTAZAR' 'DANILO ALVIM' 'BIGODE' 'JAIR'\n",
            " 'CHICO' 'ZIZINHO' 'NORONHA' 'ALFREDO II' 'ADAOZINHO' 'NENA' 'RODRIGUES'\n",
            " 'RUY' 'NILTON SANTOS' 'BAUER' 'CASTILHO' 'DJALMA SANTOS' 'BRANDAOZINHO'\n",
            " 'PINHEIRO' 'JULINHO' 'DIDI' 'PINGA' 'PAULINHO' 'ALFREDO RAMOS'\n",
            " 'MAURO RAMOS' 'DEQUINHA' 'MAURINHO' 'HUMBERTO' 'INDIO' 'RUBENS' 'VELUDO'\n",
            " 'CABECAO' 'GILMAR (GILMAR DOS SANTOS NEVES)' 'BELLINI' 'DINO SANI'\n",
            " 'MARIO ZAGALLO' 'DE SORDI' 'ORLANDO' 'JOSE ALTAFINI' 'DIDA' 'ORECO'\n",
            " 'ZOZIMO' 'PEL� (EDSON ARANTES DO NASCIMENTO)' 'GARRINCHA' 'MOACIR' 'ZITO'\n",
            " 'VAVA' 'PEPE' 'COUTINHO' 'JAIR MARINHO' 'JURANDIR' 'ALTAIR' 'ZEQUINHA'\n",
            " 'MENGALVIO' 'JAIR DA COSTA' 'AMARILDO' 'PAULO HENRIQUE' 'DENILSON' 'LIMA'\n",
            " 'JAIRZINHO' 'ALCINDO' 'FIDELIS' 'BRITO' 'RILDO' 'GERSON' 'MANGA' 'SILVA'\n",
            " 'TOSTAO' 'PARANA' 'EDU' 'FELIX' 'WILSON PIAZZA' 'CARLOS ALBERTO'\n",
            " 'CLODOALDO' 'RIVELINO' 'EVERALDO' 'MARCO ANTONIO' 'ADO' 'BALDOCHI'\n",
            " 'FONTANA' 'JOEL CAMARGO' 'PAULO CESAR' 'DARIO' 'ZE MARIA' 'LEAO'\n",
            " 'LUIS PEREIRA' 'MARINHO PERES' 'MARINHO CHAGAS' 'LEIVINHA' 'VALDOMIRO'\n",
            " 'NELINHO' 'CESAR' 'RENATO' 'ALFREDO' 'CARPEGIANI' 'ADEMIR DA GUIA'\n",
            " 'MIRANDINHA' 'DIRCEU' 'WALDIR PERES' 'TONINHO' 'OSCAR' 'AMARAL'\n",
            " 'TONINHO CEREZO' 'EDINHO' 'ZICO' 'REINALDO' 'BATISTA' 'GIL' 'ZE SERGIO'\n",
            " 'CARLOS' 'ABEL' 'POLOZZI' 'RODRIGUES NETO' 'JORGE MENDONCA'\n",
            " 'ROBERTO DINAMITE' 'CHICAO' 'LEANDRO' 'LUIZINHO' 'JUNIOR' 'SOCRATES'\n",
            " 'SERGINHO' 'EDER' 'FALCAO' 'PAULO ISIDORO' 'PAULO SERGIO' 'EDEVALDO'\n",
            " 'JUNINHO FONSECA' 'PEDRINHO' 'EDSON' 'CASAGRANDE' 'CARECA' 'JULIO CESAR'\n",
            " 'ALEMAO' 'BRANCO' 'ELZO' 'MULLER' 'EDIVALDO' 'PAULO VITOR' 'JOSIMAR'\n",
            " 'MAURO GALVAO' 'SILAS' 'VALDO' 'TAFFAREL' 'JORGINHO' 'RICARDO GOMES'\n",
            " 'DUNGA' 'MOZER' 'BISMARCK' 'ROM�RIO (ROM�RIO DE SOUZA FARIA)' 'ACACIO'\n",
            " 'ALDAIR' 'BEBETO' 'RENATO GAUCHO' 'MAZINHO' 'RICARDO ROCHA' 'TITA'\n",
            " 'ZE CARLOS' 'MAURO SILVA' 'ZINHO' 'RAI' 'MARCIO SANTOS' 'LEONARDO'\n",
            " 'RONALDAO' 'ZETTI' 'CAFU' 'RONALDO' 'VIOLA' 'GILMAR RINALDI' 'J. BAIANO'\n",
            " 'C. SAMPAIO' 'ROBERTO CARLOS' 'GIOVANNI' 'RIVALDO' 'EMERSON' 'C. GERMANO'\n",
            " 'Z� CARLOS' 'GON�ALVES' 'A. CRUZ' 'Z� ROBERTO' 'DORIVA' 'EDMUNDO'\n",
            " 'MARCOS' 'LUCIO' 'ROQUE JR' 'EDMILSON' 'R CARLOS' 'GILBERTO' 'RONALDINHO'\n",
            " 'JUNINHO' 'ROGERIO' 'RICARDINHO' 'BELLETTI' 'ANDERSON' 'KLEBERSON'\n",
            " 'VAMPETA' 'EDILSON' 'LUIZAO' 'KAKA' 'L�CIO' 'JUAN' 'R.CARLOS' 'ADRIANO'\n",
            " 'KAK�' 'R. CENI' 'CICINHO' 'LUIS�O' 'CRIS' 'G.SILVA' 'MINEIRO' 'FRED'\n",
            " 'ROBINHO' 'MAICON' 'FELIPE MELO' 'M. BASTOS' 'ELANO' 'G. SILVA'\n",
            " 'L. FABIANO' 'GOMES' 'DONI' 'D. ALVES' 'T. SILVA' 'JOSU�' 'RAMIRES'\n",
            " 'J. BAPTISTA' 'NILMAR' 'GRAFITE' 'DANI ALVES' 'T SILVA' 'DAVID LUIZ'\n",
            " 'MARCELO' 'HULK' 'NEYMAR JR' 'L GUSTAVO' 'JEFFERSON' 'VICTOR'\n",
            " 'FERNANDINHO' 'DANTE' 'MAXWELL' 'HENRIQUE' 'HERNANES' 'WILLIAN' 'BERNARD'\n",
            " 'J�']\n"
          ]
        }
      ]
    },
    {
      "cell_type": "markdown",
      "source": [
        "## Documentation:\n",
        "\n",
        "The provided data is a Python list containing the names of Brazilian football (soccer) players, seemingly those who have represented the Brazilian national team, especially in World Cup tournaments."
      ],
      "metadata": {
        "id": "CG8uZazOpF22"
      }
    },
    {
      "cell_type": "markdown",
      "source": [
        "# 13.\tHow many players participated in each World Cup edition?"
      ],
      "metadata": {
        "id": "dDYJMJV89hH2"
      }
    },
    {
      "source": [
        "players_per_edition = df.groupby('MatchID')['Player Name'].nunique()\n",
        "print(players_per_edition)"
      ],
      "cell_type": "code",
      "metadata": {
        "colab": {
          "base_uri": "https://localhost:8080/"
        },
        "id": "Q1qNMEFA_rNA",
        "outputId": "61b2bd43-87f4-4f46-bb3d-0398f726606a"
      },
      "execution_count": null,
      "outputs": [
        {
          "output_type": "stream",
          "name": "stdout",
          "text": [
            "MatchID\n",
            "25           45\n",
            "26           44\n",
            "27           45\n",
            "28           45\n",
            "29           45\n",
            "             ..\n",
            "300186511    46\n",
            "300186512    46\n",
            "300186513    46\n",
            "300186514    46\n",
            "300186515    46\n",
            "Name: Player Name, Length: 836, dtype: int64\n"
          ]
        }
      ]
    },
    {
      "cell_type": "markdown",
      "source": [
        "## Documentation:\n",
        "MatchID seems is a column dataFrame (df) which represents a unique identifier for each World Cup match. Each unique value in this column corresponds to a different match in the dataset."
      ],
      "metadata": {
        "id": "VI9fIRLHpjxK"
      }
    },
    {
      "cell_type": "markdown",
      "source": [
        "# 14.\tWhich players have played in the most World Cup matches?"
      ],
      "metadata": {
        "id": "bk-gycNKBGuf"
      }
    },
    {
      "source": [
        "player_match_counts = df.groupby('Player Name')['MatchID'].nunique()\n",
        "# Sort players by match count in descending order\n",
        "top_players = player_match_counts.sort_values(ascending=False)\n",
        "\n",
        "# Print the top N players (e.g., top 10)\n",
        "print(top_players.head(10))  # Change 10 to the desired number"
      ],
      "cell_type": "code",
      "metadata": {
        "colab": {
          "base_uri": "https://localhost:8080/"
        },
        "id": "VbbDAPfoBXTK",
        "outputId": "f32cabbb-3ae3-4c54-a8d7-011d9aa80c0a"
      },
      "execution_count": null,
      "outputs": [
        {
          "output_type": "stream",
          "name": "stdout",
          "text": [
            "Player Name\n",
            "RONALDO             33\n",
            "KLOSE               28\n",
            "CAFU                26\n",
            "SEPP MAIER          25\n",
            "LEAO                25\n",
            "DIDA                25\n",
            "WLADYSLAW ZMUDA     24\n",
            "M�LLER              24\n",
            "OSCAR               24\n",
            "GIUSEPPE BERGOMI    23\n",
            "Name: MatchID, dtype: int64\n"
          ]
        }
      ]
    },
    {
      "cell_type": "markdown",
      "source": [
        "## Documentation:\n",
        "The Player Name is a column DataFrame (df) that contains the names of the players who participated in World Cup matches."
      ],
      "metadata": {
        "id": "cELmFDrSsBtz"
      }
    },
    {
      "cell_type": "markdown",
      "source": [
        "# 15.\tCount how many times each position (e.g., GK, DF, MF, FW) appears in the dataset."
      ],
      "metadata": {
        "id": "6FW9_kRxBaCj"
      }
    },
    {
      "source": [
        "position_counts = df['Position'].value_counts()\n",
        "print(position_counts)"
      ],
      "cell_type": "code",
      "metadata": {
        "colab": {
          "base_uri": "https://localhost:8080/"
        },
        "id": "7TVGwUlqBlU4",
        "outputId": "e40fca44-9ecf-4359-ca69-e778959ac801"
      },
      "execution_count": null,
      "outputs": [
        {
          "output_type": "stream",
          "name": "stdout",
          "text": [
            "Position\n",
            "GK     2441\n",
            "C      1510\n",
            "GKC     192\n",
            "Name: count, dtype: int64\n"
          ]
        }
      ]
    },
    {
      "cell_type": "markdown",
      "source": [
        "## Documentaton:\n",
        "The above column is a DataFrame (df) that represents the playing position of each player in a World Cup match."
      ],
      "metadata": {
        "id": "GiSxFctesu-1"
      }
    },
    {
      "cell_type": "markdown",
      "source": [
        "# 16.\tPlot a bar chart of the most common player positions."
      ],
      "metadata": {
        "id": "gmJpvvEmBmxY"
      }
    },
    {
      "source": [
        "import matplotlib.pyplot as plt\n",
        "import seaborn as sns\n",
        "\n",
        "# Calculate position counts\n",
        "position_counts = df['Position'].value_counts()\n",
        "\n",
        "# Create the bar chart using Seaborn\n",
        "plt.figure(figsize=(10, 6))  # Adjust figure size if needed\n",
        "sns.barplot(x=position_counts.index, y=position_counts.values)\n",
        "plt.title('Most Common Player Positions in World Cup History')\n",
        "plt.xlabel('Position')\n",
        "plt.ylabel('Count')\n",
        "plt.xticks(rotation=45, ha='right')  # Rotate x-axis labels if needed\n",
        "plt.tight_layout()\n",
        "plt.show()"
      ],
      "cell_type": "code",
      "metadata": {
        "colab": {
          "base_uri": "https://localhost:8080/",
          "height": 391
        },
        "id": "o0_M8MlbCBkP",
        "outputId": "95ca935e-9286-4539-a268-5df3d686b64e"
      },
      "execution_count": null,
      "outputs": [
        {
          "output_type": "display_data",
          "data": {
            "text/plain": [
              "<Figure size 1000x600 with 1 Axes>"
            ],
            "image/png": "[encoded data removed]"
          },
          "metadata": {}
        }
      ]
    },
    {
      "cell_type": "markdown",
      "source": [
        "## Documentation:\n",
        "This above bar chart diagram visualizes the distribution of player positions, highlighting the most and least common roles in World Cup matches which allows for a quick understanding of team composition trends."
      ],
      "metadata": {
        "id": "qnvfCT0iucw9"
      }
    },
    {
      "cell_type": "markdown",
      "source": [
        "# 17.\tCreate a histogram showing the number of players per World Cup."
      ],
      "metadata": {
        "id": "R5hOYNCPCGvC"
      }
    },
    {
      "cell_type": "code",
      "source": [
        "import matplotlib.pyplot as plt\n",
        "\n",
        "# Assuming 'Year' column represents the World Cup edition\n",
        "players_per_year = df.groupby('MatchID')['Player Name'].nunique()\n",
        "\n",
        "# Create the histogram\n",
        "plt.figure(figsize=(10, 6))  # Adjust figure size if needed\n",
        "plt.hist(players_per_year, bins=10, edgecolor='black')  # Adjust bins as needed\n",
        "plt.title('Number of Players per World Cup')\n",
        "plt.xlabel('MatchID')\n",
        "plt.ylabel('Number of Players')\n",
        "plt.xticks(rotation=45, ha='right')  # Rotate x-axis labels if needed\n",
        "plt.tight_layout()\n",
        "plt.show()"
      ],
      "metadata": {
        "colab": {
          "base_uri": "https://localhost:8080/",
          "height": 391
        },
        "id": "oygxvTWdCh0C",
        "outputId": "77fc84fe-64d7-4b28-c6e3-e6795bd4bcbb"
      },
      "execution_count": null,
      "outputs": [
        {
          "output_type": "display_data",
          "data": {
            "text/plain": [
              "<Figure size 1000x600 with 1 Axes>"
            ],
            "image/png": "[encoded data removed]"
          },
          "metadata": {}
        }
      ]
    },
    {
      "cell_type": "markdown",
      "source": [
        "## Documentation:\n",
        "The above diagram provides a visual representation of player participation across different World Cup matches which helps identify common team sizes and potential outliers."
      ],
      "metadata": {
        "id": "HKgOGcPwu94V"
      }
    },
    {
      "cell_type": "markdown",
      "source": [
        "# 18.\tVisualize the number of goals scored in different World Cups using the Event column."
      ],
      "metadata": {
        "id": "NG2qVtSpDVMi"
      }
    },
    {
      "source": [
        "import matplotlib.pyplot as plt\n",
        "\n",
        "# Assuming 'MatchID' column represents the World Cup edition\n",
        "# and 'Event' column contains goal information\n",
        "\n",
        "# Filter for goal events (assuming 'G' represents a goal)\n",
        "goals_df = df[df['Event'] == 'G']\n",
        "\n",
        "# Group by 'MatchID' and count goals\n",
        "goals_per_match = goals_df.groupby('MatchID')['Event'].count()\n",
        "\n",
        "# Create the histogram\n",
        "plt.figure(figsize=(10, 6))\n",
        "plt.hist(goals_per_match, bins=10, edgecolor='black')  # Adjust bins as needed\n",
        "plt.title('Distribution of Goals Scored in Different World Cups')\n",
        "plt.xlabel('Number of Goals per Match')\n",
        "plt.ylabel('Frequency')\n",
        "plt.tight_layout()\n",
        "plt.show()"
      ],
      "cell_type": "code",
      "metadata": {
        "colab": {
          "base_uri": "https://localhost:8080/",
          "height": 391
        },
        "id": "ruvg_6pSL3WY",
        "outputId": "f0897ad1-000a-4d57-fc58-2420ee5930ca"
      },
      "execution_count": null,
      "outputs": [
        {
          "output_type": "display_data",
          "data": {
            "text/plain": [
              "<Figure size 1000x600 with 1 Axes>"
            ],
            "image/png": "[encoded data removed]"
          },
          "metadata": {}
        }
      ]
    },
    {
      "cell_type": "markdown",
      "source": [
        "## Doumentation:\n",
        "The distribution provides a quick visual summary of goal-scoring patterns in World Cup matches. Understanding this distribution can help analyze scoring trends, identify unusual matches, and potentially even inform strategies for predicting future outcomes."
      ],
      "metadata": {
        "id": "WbaSgBe9yDjj"
      }
    }
  ]
}